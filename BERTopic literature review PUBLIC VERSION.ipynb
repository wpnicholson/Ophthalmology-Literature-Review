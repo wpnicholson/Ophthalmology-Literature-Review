{
 "cells": [
  {
   "cell_type": "markdown",
   "metadata": {},
   "source": [
    "# BERTopic\n",
    "* BERTopic can be viewed as a sequence of steps to create its topic representations.\n",
    "* By default, the main steps, run in sequence, for topic modeling with BERTopic are:\n",
    "    * Embeddings: Sentence transformers (SBERT).\n",
    "    * Dimensionality reduction: UMAP\n",
    "    * Clustering: HDBSCAN\n",
    "    * Tokenizer: CountVectorizer\n",
    "    * Weighting scheme: c-TF-IDF\n",
    "    * Fine-tuned representations: optional\n",
    "* However, BERTopic assumes some independence between these steps which makes it quite modular.\n",
    "* In other words, BERTopic not only allows you to build your own topic model but to explore several topic modeling techniques on top of your customized topic model."
   ]
  },
  {
   "cell_type": "markdown",
   "metadata": {},
   "source": [
    "## Setup"
   ]
  },
  {
   "cell_type": "markdown",
   "metadata": {},
   "source": [
    "### Imports"
   ]
  },
  {
   "cell_type": "code",
   "execution_count": 1,
   "metadata": {},
   "outputs": [],
   "source": [
    "import pandas as pd\n",
    "import re\n",
    "from bertopic import BERTopic\n",
    "\n",
    "pd.set_option('display.max_columns', None)\n",
    "pd.set_option('display.max_colwidth', None)"
   ]
  },
  {
   "cell_type": "code",
   "execution_count": 2,
   "metadata": {},
   "outputs": [],
   "source": [
    "import os\n",
    "import sys\n",
    "sys.path.insert(0, '..')\n",
    "from utils import pubmed_field_definitions, abbreviations, cleaning_pipeline, process_pubmed, get_google_font"
   ]
  },
  {
   "cell_type": "code",
   "execution_count": 3,
   "metadata": {},
   "outputs": [
    {
     "name": "stdout",
     "output_type": "stream",
     "text": [
      "Added new font as Roboto Light\n",
      "Added new font as Roboto\n",
      "Added new font as Roboto\n",
      "Added new font as Roboto Black\n"
     ]
    }
   ],
   "source": [
    "get_google_font.get_google_font(\"Roboto\")"
   ]
  },
  {
   "cell_type": "markdown",
   "metadata": {},
   "source": [
    "### Get spaCy stop words"
   ]
  },
  {
   "cell_type": "code",
   "execution_count": 4,
   "metadata": {},
   "outputs": [
    {
     "name": "stdout",
     "output_type": "stream",
     "text": [
      "spaCy version: 3.7.2\n",
      "True\n"
     ]
    }
   ],
   "source": [
    "import spacy\n",
    "print(f\"spaCy version: {spacy.__version__}\")\n",
    "\n",
    "activated = spacy.prefer_gpu()\n",
    "print(activated)\n",
    "\n",
    "nlp = spacy.load(\"en_core_web_trf\")\n",
    "\n",
    "spacy_stop_words: list[str] = list(nlp.Defaults.stop_words)"
   ]
  },
  {
   "cell_type": "markdown",
   "metadata": {},
   "source": [
    "### Decide whether to remake the dataset"
   ]
  },
  {
   "cell_type": "code",
   "execution_count": 5,
   "metadata": {},
   "outputs": [],
   "source": [
    "remake_dataset = True"
   ]
  },
  {
   "cell_type": "markdown",
   "metadata": {},
   "source": [
    "### Get your documents"
   ]
  },
  {
   "cell_type": "markdown",
   "metadata": {},
   "source": [
    "#### Read in raw data"
   ]
  },
  {
   "cell_type": "code",
   "execution_count": 6,
   "metadata": {},
   "outputs": [],
   "source": [
    "if remake_dataset:\n",
    "    filename = os.path.join('Search Results', 'pubmed-machinelea-set.txt')\n",
    "\n",
    "    # Open the file and read every line to determine the maximum line length.\n",
    "    # This is needed to ensure Pandas doesn't truncate the input.\n",
    "    # Use a 'with' statement to ensure the file is closed properly.\n",
    "    with open(filename, 'r', encoding=\"utf8\") as f:\n",
    "        max_line_length: int = max(len(line) for line in f)\n",
    "\n",
    "    # The reason for 'width' is that if a row contains a very long text string then you'll\n",
    "    # need to ensure Pandas doesn't arbitrarily stop reading from that row and inadvertantly\n",
    "    # truncating the input. Usually this would happen for the rows containing the abstracts.\n",
    "    df_raw = pd.read_fwf(filename, header=None, widths=[max_line_length+1], skip_blank_lines=False)\n",
    "\n",
    "    # Since I set 'header=None' when reading in the file the data is stored in a\n",
    "    # single column named simply '0'.\n",
    "    full_list: list[str] = df_raw[0].to_list()"
   ]
  },
  {
   "cell_type": "markdown",
   "metadata": {},
   "source": [
    "#### Get the PubMed field definitions"
   ]
  },
  {
   "cell_type": "code",
   "execution_count": 7,
   "metadata": {},
   "outputs": [],
   "source": [
    "if remake_dataset:\n",
    "    field_dict: dict[str, str] = pubmed_field_definitions.definitions()"
   ]
  },
  {
   "cell_type": "markdown",
   "metadata": {},
   "source": [
    "#### Convert the raw data into an organised DataFrame"
   ]
  },
  {
   "cell_type": "code",
   "execution_count": 8,
   "metadata": {},
   "outputs": [],
   "source": [
    "if remake_dataset:\n",
    "    df_orig: pd.DataFrame = pd.DataFrame(\n",
    "        columns=[key for key in field_dict.keys()],\n",
    "        dtype=pd.StringDtype()\n",
    "    )\n",
    "\n",
    "    df_orig = process_pubmed.get_data(full_list, field_dict, df_orig)\n",
    "\n",
    "    df_orig = df_orig.astype({\"Abstract\": pd.StringDtype()})"
   ]
  },
  {
   "cell_type": "markdown",
   "metadata": {},
   "source": [
    "#### Remove papers with no abstract"
   ]
  },
  {
   "cell_type": "code",
   "execution_count": 9,
   "metadata": {},
   "outputs": [
    {
     "name": "stdout",
     "output_type": "stream",
     "text": [
      "There are 1285 papers.\n",
      "There are 1205 papers with abstracts.\n"
     ]
    }
   ],
   "source": [
    "if remake_dataset:\n",
    "    print(f\"There are {len(df_orig)} papers.\")\n",
    "\n",
    "    # It turns out that some papers don't have an abstract.\n",
    "    # Drop the rows from 'df_orig' that don't have an abstract.\n",
    "    df_orig = df_orig.dropna(subset=['Abstract'])\n",
    "\n",
    "    print(f\"There are {len(df_orig)} papers with abstracts.\")"
   ]
  },
  {
   "cell_type": "markdown",
   "metadata": {},
   "source": [
    "### Basic document cleaning"
   ]
  },
  {
   "cell_type": "markdown",
   "metadata": {},
   "source": [
    "#### Convert strings into lists of documents"
   ]
  },
  {
   "cell_type": "code",
   "execution_count": 10,
   "metadata": {},
   "outputs": [],
   "source": [
    "if remake_dataset:\n",
    "    # Apply pipeline to these columns.\n",
    "    cols: list[str] = ['Abstract']\n",
    "\n",
    "    # Creates a new column by appending \"_split\" to the column name.\n",
    "    df_orig: pd.DataFrame = cleaning_pipeline.split_into_sentences(cols, df_orig, nlp)"
   ]
  },
  {
   "cell_type": "code",
   "execution_count": 11,
   "metadata": {},
   "outputs": [],
   "source": [
    "if remake_dataset:\n",
    "    # Sum of the lengths of the lists in the original DataFrame.\n",
    "    original_list_sum = df_orig['Abstract_split'].apply(len).sum()\n",
    "\n",
    "    # 'expanded_df' is the new DataFrame with each element of the lists in 'Abstract_split' as a separate row.\n",
    "    # All other column values are replicated for these new rows.\n",
    "    expanded_df = df_orig.explode('Abstract_split')\n",
    "\n",
    "    # Assert that the number of rows in the expanded DataFrame equals the sum of the lengths of the lists\n",
    "    assert len(expanded_df) == original_list_sum, \"The number of rows in the expanded DataFrame does not match the sum of the lengths of the lists in the original DataFrame.\"\n",
    "\n",
    "    # Copy the expanded DataFrame back into the name of the original DataFrame.\n",
    "    # And we only need the 'Abstract' and 'Abstract_split' columns.\n",
    "    df_orig = expanded_df[['Abstract', 'Abstract_split']].copy(deep=True)"
   ]
  },
  {
   "cell_type": "markdown",
   "metadata": {},
   "source": [
    "#### Replace known abbreviations"
   ]
  },
  {
   "cell_type": "code",
   "execution_count": 12,
   "metadata": {},
   "outputs": [],
   "source": [
    "if remake_dataset:\n",
    "    replacement_dict: dict[str, str] = abbreviations.exact_replacements()"
   ]
  },
  {
   "cell_type": "code",
   "execution_count": 13,
   "metadata": {},
   "outputs": [],
   "source": [
    "if remake_dataset:\n",
    "    # Apply pipeline to these columns.\n",
    "    cols: list[str] = ['Abstract_split']\n",
    "\n",
    "    # Creates a new column by appending \"_abbv\" to the column name.\n",
    "    df_orig: pd.DataFrame = cleaning_pipeline.replace_abbreviations(cols, df_orig, replacement_dict)"
   ]
  },
  {
   "cell_type": "markdown",
   "metadata": {},
   "source": [
    "#### Remove duplicate phrases"
   ]
  },
  {
   "cell_type": "code",
   "execution_count": 14,
   "metadata": {},
   "outputs": [],
   "source": [
    "if remake_dataset:\n",
    "    # Apply pipeline to these columns.\n",
    "    cols: list[str] = ['Abstract_split_abbv']\n",
    "\n",
    "    # Does not create a new column i.e. the column(s) listed here are overwritten.\n",
    "    df_orig: pd.DataFrame = cleaning_pipeline.remove_duplicates(cols, df_orig, replacement_dict)"
   ]
  },
  {
   "cell_type": "markdown",
   "metadata": {},
   "source": [
    "#### Remove stubs"
   ]
  },
  {
   "cell_type": "code",
   "execution_count": 15,
   "metadata": {},
   "outputs": [],
   "source": [
    "if remake_dataset:\n",
    "    # Apply pipeline to these columns.\n",
    "    cols: list[str] = ['Abstract_split_abbv']\n",
    "\n",
    "    # Does not create a new column i.e. the column(s) listed here are overwritten.\n",
    "    df_orig: pd.DataFrame = cleaning_pipeline.remove_uppercase_colon_phrases(cols, df_orig)"
   ]
  },
  {
   "cell_type": "markdown",
   "metadata": {},
   "source": [
    "#### Remove blank rows\n",
    "* Remove blank rows from the current main column."
   ]
  },
  {
   "cell_type": "code",
   "execution_count": 16,
   "metadata": {},
   "outputs": [],
   "source": [
    "if remake_dataset:\n",
    "    # Drop the rows from 'df_orig', column 'Abstract_split_abbv' that are empty strings.\n",
    "    df_orig = df_orig[df_orig['Abstract_split_abbv'] != '']"
   ]
  },
  {
   "cell_type": "markdown",
   "metadata": {},
   "source": [
    "#### Whitespace cleaning"
   ]
  },
  {
   "cell_type": "code",
   "execution_count": 17,
   "metadata": {},
   "outputs": [],
   "source": [
    "if remake_dataset:\n",
    "    # Apply pipeline to these columns.\n",
    "    cols: list[str] = ['Abstract_split_abbv']\n",
    "\n",
    "    # Does not create a new column i.e. the column(s) listed here are overwritten.\n",
    "    df_orig: pd.DataFrame = cleaning_pipeline.whitespace(cols, df_orig)"
   ]
  },
  {
   "cell_type": "markdown",
   "metadata": {},
   "source": [
    "#### Domain specific words"
   ]
  },
  {
   "cell_type": "code",
   "execution_count": 18,
   "metadata": {},
   "outputs": [],
   "source": [
    "if remake_dataset:\n",
    "    replacement_mapping = abbreviations.domain_specific_replacements()\n",
    "\n",
    "    for variant, unified_term in replacement_mapping.items():\n",
    "        pattern = re.compile(re.escape(variant), re.IGNORECASE)\n",
    "        df_orig['Abstract_split_abbv'] = df_orig['Abstract_split_abbv'].str.replace(pattern, unified_term, regex=True)"
   ]
  },
  {
   "cell_type": "code",
   "execution_count": 19,
   "metadata": {},
   "outputs": [],
   "source": [
    "if remake_dataset:\n",
    "    domain_specific_terms = [\n",
    "        'ClinicalBERT',\n",
    "        'DistilBERT',\n",
    "        'BioBERT',\n",
    "        'BlueBERT',\n",
    "        'BERT',\n",
    "        'AlexNet',\n",
    "        'SqueezeNet',\n",
    "        'GoogleNet',\n",
    "        'DenseNet',\n",
    "        'Xception',\n",
    "        'NASNetLarge',\n",
    "        'GANseg'\n",
    "    ]\n",
    "\n",
    "    domain_specific_terms.extend(list(set(replacement_mapping.values())))"
   ]
  },
  {
   "cell_type": "markdown",
   "metadata": {},
   "source": [
    "#### Save to file or read from file"
   ]
  },
  {
   "cell_type": "code",
   "execution_count": 20,
   "metadata": {},
   "outputs": [],
   "source": [
    "if remake_dataset:\n",
    "    df_orig.to_pickle(\"df_orig.pkl\")\n",
    "\n",
    "    with open('domain_specific_terms.txt', 'w') as f:\n",
    "        for line in domain_specific_terms:\n",
    "            f.write(f\"{line}\\n\")\n",
    "else:\n",
    "    df_orig = pd.read_pickle(\"df_orig.pkl\")\n",
    "\n",
    "    domain_specific_terms = []\n",
    "    with open('domain_specific_terms.txt', 'r') as f:\n",
    "        for line in f:\n",
    "            domain_specific_terms.append(line.strip())"
   ]
  },
  {
   "cell_type": "markdown",
   "metadata": {},
   "source": [
    "#### Convert DataFrame column into a list"
   ]
  },
  {
   "cell_type": "code",
   "execution_count": 21,
   "metadata": {},
   "outputs": [],
   "source": [
    "docs: list[str] = df_orig['Abstract_split_abbv'].tolist()"
   ]
  },
  {
   "cell_type": "markdown",
   "metadata": {},
   "source": [
    "## Step 1 - Embedding Model\n",
    "* Convert documents into embeddings."
   ]
  },
  {
   "cell_type": "code",
   "execution_count": 22,
   "metadata": {},
   "outputs": [],
   "source": [
    "from sentence_transformers import SentenceTransformer"
   ]
  },
  {
   "cell_type": "code",
   "execution_count": 23,
   "metadata": {},
   "outputs": [],
   "source": [
    "# Pre-calculate embeddings.\n",
    "# \"all-MiniLM-L6-v2\"\n",
    "# \"all-mpnet-base-v2\"\n",
    "# \"thenlper/gte-large\"\n",
    "\n",
    "embedding_model = SentenceTransformer(\"all-mpnet-base-v2\")\n",
    "\n",
    "embeddings = embedding_model.encode(docs)"
   ]
  },
  {
   "cell_type": "markdown",
   "metadata": {},
   "source": [
    "## Step 2 - Dimensionality Reduction\n",
    "* Reduce the dimensionality of your embeddings."
   ]
  },
  {
   "cell_type": "code",
   "execution_count": 24,
   "metadata": {},
   "outputs": [],
   "source": [
    "from umap import UMAP"
   ]
  },
  {
   "cell_type": "code",
   "execution_count": 25,
   "metadata": {},
   "outputs": [],
   "source": [
    "umap_model = UMAP(\n",
    "    # The size of local neighborhood (in terms of number of neighboring sample points) used for\n",
    "    # manifold approximation.\n",
    "    # Larger values result in more global views of the manifold, while smaller values result in\n",
    "    # more local data being preserved. In general values should be in the range 2 to 100.\n",
    "    n_neighbors=15,\n",
    "\n",
    "    # The dimension of the space to embed into.\n",
    "    # This defaults to 2 to provide easy visualization, but can reasonably be set to any\n",
    "    # integer value in the range 2 to 100.\n",
    "    n_components=5,\n",
    "\n",
    "    min_dist=0.0,\n",
    "    metric='cosine',\n",
    "    random_state=42  # For reproducibility - to prevent stochastic behaviour of UMAP.\n",
    ")"
   ]
  },
  {
   "cell_type": "markdown",
   "metadata": {},
   "source": [
    "## Step 3 - Clustering\n",
    "* Cluster your embeddings (now that their dimensionality has been reduced).\n",
    "* HDBSCAN works will with UMAP since UMAP maintains a lot of local structure even in lower-dimensional space. Moreover, HDBSCAN does not force data points to clusters as it considers them outliers."
   ]
  },
  {
   "cell_type": "code",
   "execution_count": 26,
   "metadata": {},
   "outputs": [],
   "source": [
    "from hdbscan import HDBSCAN"
   ]
  },
  {
   "cell_type": "code",
   "execution_count": 27,
   "metadata": {},
   "outputs": [],
   "source": [
    "hdbscan_model = HDBSCAN(\n",
    "    # Control the number of topics with this parameter.\n",
    "    # The minimum size of clusters; single linkage splits that contain fewer points than\n",
    "    # this will be considered points \"falling out\" of a cluster rather than a cluster splitting\n",
    "    # into two new clusters.\n",
    "    min_cluster_size=49,\n",
    "\n",
    "    metric='euclidean',\n",
    "    cluster_selection_method='eom',\n",
    "    prediction_data=True\n",
    ")"
   ]
  },
  {
   "cell_type": "markdown",
   "metadata": {},
   "source": [
    "## Step 4 - Tokenization of topics\n",
    "* Tokenize your collection of documents."
   ]
  },
  {
   "cell_type": "code",
   "execution_count": 28,
   "metadata": {},
   "outputs": [],
   "source": [
    "from sklearn.feature_extraction.text import CountVectorizer"
   ]
  },
  {
   "cell_type": "code",
   "execution_count": 29,
   "metadata": {},
   "outputs": [],
   "source": [
    "vectorizer_model = CountVectorizer(\n",
    "    ngram_range=(1, 6),\n",
    "    stop_words=spacy_stop_words,\n",
    "    analyzer=\"word\",\n",
    "\n",
    "    # Ignore terms that have a document frequency strictly lower than the given threshold.\n",
    "    min_df=1,\n",
    ")"
   ]
  },
  {
   "cell_type": "markdown",
   "metadata": {},
   "source": [
    "## Step 5 - Word Weighting Scheme\n",
    "* Topic Creation\n",
    "    * What we want to know from the clusters that we generated, is what makes one cluster, based on their content, different from another?\n",
    "    * How can we derive topics from clustered documents?\n",
    "    * To solve this, I came up with a class-based variant of TF-IDF (c-TF-IDF), that would allow me to extract what makes each set of documents unique compared to the other.\n",
    "    * The intuition behind the method is as follows. When you apply TF-IDF as usual on a set of documents, what you are basically doing is comparing the importance of words between documents.\n",
    "    * What if, we instead treat all documents in a single category (e.g., a cluster) as a single document and then apply TF-IDF? The result would be a very long document per category and the resulting TF-IDF score would demonstrate the important words in a topic.\n",
    "\n",
    "* c-TF-IDF\n",
    "    * To create this class-based TF-IDF score, we need to first create a single document for each cluster of documents:"
   ]
  },
  {
   "cell_type": "code",
   "execution_count": 30,
   "metadata": {},
   "outputs": [],
   "source": [
    "from bertopic.vectorizers import ClassTfidfTransformer"
   ]
  },
  {
   "cell_type": "code",
   "execution_count": 31,
   "metadata": {},
   "outputs": [],
   "source": [
    "# We can choose any number of seed words for which we want their representation\n",
    "# to be strengthen. We increase the importance of these words as we want them to be more\n",
    "# likely to end up in the topic representations.\n",
    "ctfidf_model = ClassTfidfTransformer(\n",
    "    seed_words=domain_specific_terms,\n",
    "    seed_multiplier=2\n",
    ")"
   ]
  },
  {
   "cell_type": "markdown",
   "metadata": {},
   "source": [
    "## Step 6 - Representation Tuning\n",
    "* To use a quantized LLMs, we make use of the `GGUF` format together with `llama-cpp-python`.\n",
    "* When you access any of [TheBloke's quantized models](https://huggingface.co/TheBloke), you can click on files and find specific quantized formats.\n",
    "* Here we use a 4-bit quantized model."
   ]
  },
  {
   "cell_type": "markdown",
   "metadata": {},
   "source": [
    "### Quantized LLM Setup"
   ]
  },
  {
   "cell_type": "markdown",
   "metadata": {},
   "source": [
    "#### Install and download model"
   ]
  },
  {
   "cell_type": "code",
   "execution_count": 32,
   "metadata": {},
   "outputs": [],
   "source": [
    "%%capture\n",
    "!CMAKE_ARGS=\"-DLLAMA_CUBLAS=on\" FORCE_CMAKE=1 pip install llama-cpp-python"
   ]
  },
  {
   "cell_type": "code",
   "execution_count": 33,
   "metadata": {},
   "outputs": [],
   "source": [
    "import wget"
   ]
  },
  {
   "cell_type": "code",
   "execution_count": 34,
   "metadata": {},
   "outputs": [
    {
     "name": "stdout",
     "output_type": "stream",
     "text": [
      "Model openhermes-2.5-mistral-7b.Q4_K_M.gguf exists.\n"
     ]
    }
   ],
   "source": [
    "from pathlib import Path\n",
    "\n",
    "filename_llm = \"openhermes-2.5-mistral-7b.Q4_K_M.gguf\"\n",
    "if Path(filename_llm).is_file():\n",
    "    print(f\"Model {filename_llm} exists.\")\n",
    "\n",
    "else:\n",
    "    url = 'https://huggingface.co/TheBloke/OpenHermes-2.5-Mistral-7B-GGUF/resolve/main/openhermes-2.5-mistral-7b.Q4_K_M.gguf'\n",
    "    filename_llm = wget.download(url)\n",
    "    print(f\"Model {filename_llm} downloaded.\")"
   ]
  },
  {
   "cell_type": "markdown",
   "metadata": {},
   "source": [
    "#### Load the model"
   ]
  },
  {
   "cell_type": "code",
   "execution_count": 35,
   "metadata": {},
   "outputs": [
    {
     "name": "stderr",
     "output_type": "stream",
     "text": [
      "AVX = 1 | AVX_VNNI = 0 | AVX2 = 1 | AVX512 = 0 | AVX512_VBMI = 0 | AVX512_VNNI = 0 | FMA = 1 | NEON = 0 | ARM_FMA = 0 | F16C = 1 | FP16_VA = 0 | WASM_SIMD = 0 | BLAS = 0 | SSE3 = 1 | SSSE3 = 0 | VSX = 0 | \n"
     ]
    }
   ],
   "source": [
    "from llama_cpp import Llama\n",
    "\n",
    "# Use llama.cpp to load in a Quantized LLM\n",
    "llm = Llama(\n",
    "    model_path=filename_llm,\n",
    "    n_gpu_layers=-1,\n",
    "    n_ctx=4096,\n",
    "    stop=[\"Q:\", \"\\n\"]\n",
    ")"
   ]
  },
  {
   "cell_type": "markdown",
   "metadata": {},
   "source": [
    "### Multi-Aspect Topic Modeling\n",
    "* See the official [docs](https://maartengr.github.io/BERTopic/getting_started/multiaspect/multiaspect.html).\n",
    "* Pass the LLM to BERTopic with a custom prompt\n",
    "* Let's add `KeyBERTInspired` representations to compare the LLM representations with."
   ]
  },
  {
   "cell_type": "code",
   "execution_count": 36,
   "metadata": {},
   "outputs": [],
   "source": [
    "from bertopic.representation import KeyBERTInspired, LlamaCPP, MaximalMarginalRelevance, PartOfSpeech\n",
    "\n",
    "prompt = \"\"\"Q:\n",
    "I have a topic that contains the following documents:\n",
    "[DOCUMENTS]\n",
    "\n",
    "The topic is described by the following keywords: '[KEYWORDS]'.\n",
    "\n",
    "Based on the above information, can you give a short label of the topic of at most 5 words?\n",
    "A:\n",
    "\"\"\"\n",
    "\n",
    "# Create multiple representations of each topic that BERTopic creates.\n",
    "# This way when you do e.g. \"display(topic_model.get_topic_info()[1:11])\" you\n",
    "# can compare and contrast the different representations of the topics.\n",
    "# Later on use \"topic_model.get_topic_info()\" to access all the representations.\n",
    "representation_model = {\n",
    "    \"LLM\": LlamaCPP(llm, prompt=prompt),  # The main pipeline is defined with the \"main\" key.\n",
    "    \"KeyBERT\": KeyBERTInspired(),\n",
    "    \"Aspect1\": PartOfSpeech(\"en_core_web_trf\"),\n",
    "    \"Aspect2\": [KeyBERTInspired(top_n_words=30), MaximalMarginalRelevance(diversity=.5)],\n",
    "}"
   ]
  },
  {
   "cell_type": "markdown",
   "metadata": {},
   "source": [
    "## Create Topics - fit the model\n",
    "* Fit the model and make predictions on documents.\n",
    "* Select \"english\" as the main language of our documents.\n",
    "* This will generate topics and their probabilities."
   ]
  },
  {
   "cell_type": "code",
   "execution_count": 37,
   "metadata": {},
   "outputs": [
    {
     "name": "stderr",
     "output_type": "stream",
     "text": [
      "2024-02-07 19:29:53,539 - BERTopic - Dimensionality - Fitting the dimensionality reduction algorithm\n",
      "2024-02-07 19:30:17,937 - BERTopic - Dimensionality - Completed ✓\n",
      "2024-02-07 19:30:17,939 - BERTopic - Cluster - Start clustering the reduced embeddings\n",
      "2024-02-07 19:30:19,506 - BERTopic - Cluster - Completed ✓\n",
      "2024-02-07 19:30:19,511 - BERTopic - Representation - Extracting topics from clusters using representation models.\n",
      "  3%|▎         | 1/30 [00:07<03:47,  7.85s/it]Llama.generate: prefix-match hit\n",
      "  7%|▋         | 2/30 [00:13<03:10,  6.81s/it]Llama.generate: prefix-match hit\n",
      " 10%|█         | 3/30 [00:22<03:25,  7.62s/it]Llama.generate: prefix-match hit\n",
      " 13%|█▎        | 4/30 [00:30<03:24,  7.88s/it]Llama.generate: prefix-match hit\n",
      " 17%|█▋        | 5/30 [00:37<03:02,  7.30s/it]Llama.generate: prefix-match hit\n",
      " 20%|██        | 6/30 [00:45<03:06,  7.76s/it]Llama.generate: prefix-match hit\n",
      " 23%|██▎       | 7/30 [00:52<02:53,  7.55s/it]Llama.generate: prefix-match hit\n",
      " 27%|██▋       | 8/30 [00:58<02:30,  6.86s/it]Llama.generate: prefix-match hit\n",
      " 30%|███       | 9/30 [01:21<04:11, 11.98s/it]Llama.generate: prefix-match hit\n",
      " 33%|███▎      | 10/30 [01:30<03:42, 11.12s/it]Llama.generate: prefix-match hit\n",
      " 37%|███▋      | 11/30 [01:37<03:05,  9.76s/it]Llama.generate: prefix-match hit\n",
      " 40%|████      | 12/30 [01:46<02:52,  9.59s/it]Llama.generate: prefix-match hit\n",
      " 43%|████▎     | 13/30 [01:56<02:42,  9.58s/it]Llama.generate: prefix-match hit\n",
      " 47%|████▋     | 14/30 [02:06<02:38,  9.92s/it]Llama.generate: prefix-match hit\n",
      " 50%|█████     | 15/30 [02:13<02:12,  8.83s/it]Llama.generate: prefix-match hit\n",
      " 53%|█████▎    | 16/30 [02:17<01:45,  7.54s/it]Llama.generate: prefix-match hit\n",
      " 57%|█████▋    | 17/30 [02:26<01:41,  7.80s/it]Llama.generate: prefix-match hit\n",
      " 60%|██████    | 18/30 [02:33<01:30,  7.55s/it]Llama.generate: prefix-match hit\n",
      " 63%|██████▎   | 19/30 [02:42<01:29,  8.18s/it]Llama.generate: prefix-match hit\n",
      " 67%|██████▋   | 20/30 [02:52<01:26,  8.65s/it]Llama.generate: prefix-match hit\n",
      " 70%|███████   | 21/30 [02:57<01:07,  7.54s/it]Llama.generate: prefix-match hit\n",
      " 73%|███████▎  | 22/30 [03:06<01:04,  8.11s/it]Llama.generate: prefix-match hit\n",
      " 77%|███████▋  | 23/30 [03:12<00:51,  7.29s/it]Llama.generate: prefix-match hit\n",
      " 80%|████████  | 24/30 [03:21<00:46,  7.78s/it]Llama.generate: prefix-match hit\n",
      " 83%|████████▎ | 25/30 [03:31<00:43,  8.62s/it]Llama.generate: prefix-match hit\n",
      " 87%|████████▋ | 26/30 [03:39<00:33,  8.45s/it]Llama.generate: prefix-match hit\n",
      " 90%|█████████ | 27/30 [03:48<00:25,  8.58s/it]Llama.generate: prefix-match hit\n",
      " 93%|█████████▎| 28/30 [03:54<00:15,  7.71s/it]Llama.generate: prefix-match hit\n",
      " 97%|█████████▋| 29/30 [04:01<00:07,  7.60s/it]Llama.generate: prefix-match hit\n",
      "100%|██████████| 30/30 [04:12<00:00,  8.42s/it]\n",
      "2024-02-07 19:34:46,479 - BERTopic - Representation - Completed ✓\n"
     ]
    }
   ],
   "source": [
    "topic_model = BERTopic(\n",
    "  language=\"english\",\n",
    "\n",
    "  # Pipeline models.\n",
    "  embedding_model=embedding_model,            # Step 1 - Extract embeddings.\n",
    "  umap_model=umap_model,                      # Step 2 - UMAP model.\n",
    "  hdbscan_model=hdbscan_model,                # Step 3 - Cluster reduced embeddings.\n",
    "  vectorizer_model=vectorizer_model,          # Step 4 - Tokenize topics.\n",
    "  ctfidf_model=ctfidf_model,                  # Step 5 - Strengthen topics.\n",
    "  representation_model=representation_model,  # Step 6 - Label topics.\n",
    "\n",
    "  # Hyperparameters.\n",
    "  top_n_words=10,\n",
    "  verbose=True,\n",
    "\n",
    "  # Calculate the probabilities of all topics per document instead of\n",
    "  # the probability of the assigned topic per document.\n",
    "  # This could slow down the extraction of topics if you have many documents (> 100_000).\n",
    "  # NOTE: If false you cannot use the corresponding visualization method\n",
    "  #       visualize_probabilities.\n",
    "  # NOTE: This is an approximation of topic probabilities as used\n",
    "  #       in HDBSCAN and not an exact representation.\n",
    "  calculate_probabilities=True,\n",
    ")\n",
    "\n",
    "topics, probs = topic_model.fit_transform(\n",
    "    docs,\n",
    "    embeddings,\n",
    ")"
   ]
  },
  {
   "cell_type": "markdown",
   "metadata": {},
   "source": [
    "## Review"
   ]
  },
  {
   "cell_type": "markdown",
   "metadata": {},
   "source": [
    "### All topics - Return topics with top n words and their c-TF-IDF score"
   ]
  },
  {
   "cell_type": "code",
   "execution_count": 38,
   "metadata": {},
   "outputs": [
    {
     "name": "stdout",
     "output_type": "stream",
     "text": [
      "Number of topics: 29\n"
     ]
    }
   ],
   "source": [
    "num_topics = len(topic_model.get_topics()) - 1\n",
    "\n",
    "print(f\"Number of topics: {num_topics}\")"
   ]
  },
  {
   "cell_type": "markdown",
   "metadata": {},
   "source": [
    "### Information about a specific topic"
   ]
  },
  {
   "cell_type": "code",
   "execution_count": 39,
   "metadata": {},
   "outputs": [
    {
     "data": {
      "text/plain": [
       "[('background', 0.08317564249834768),\n",
       " ('proprietary commercial', 0.07114668483556792),\n",
       " ('disclosure', 0.07052656018709705),\n",
       " ('proprietary', 0.06888789385240485),\n",
       " ('commercial', 0.06460214523179991),\n",
       " ('results', 0.06162719084102209),\n",
       " ('commercial disclosure found', 0.05297941784261347),\n",
       " ('commercial disclosure', 0.05297941784261347),\n",
       " ('proprietary commercial disclosure', 0.05297941784261347),\n",
       " ('disclosure found', 0.05297941784261347)]"
      ]
     },
     "execution_count": 39,
     "metadata": {},
     "output_type": "execute_result"
    }
   ],
   "source": [
    "# Return top n words for a specific topic and their c-TF-IDF scores.\n",
    "topic_model.get_topic(19)"
   ]
  },
  {
   "cell_type": "markdown",
   "metadata": {},
   "source": [
    "### Information about each topic (and outliers)"
   ]
  },
  {
   "cell_type": "code",
   "execution_count": 40,
   "metadata": {},
   "outputs": [],
   "source": [
    "# Add in columns for the percentage share and cummulative share of each topic.\n",
    "# That's the number of contributing documents for each topic.\n",
    "def get_topic_stats(topic_model, extra_cols = []):\n",
    "    topics_info_df = topic_model.get_topic_info().sort_values('Count', ascending = False)\n",
    "    topics_info_df['Share'] = 100.*topics_info_df['Count']/topics_info_df['Count'].sum()\n",
    "    topics_info_df['CumulativeShare'] = 100.*topics_info_df['Count'].cumsum()/topics_info_df['Count'].sum()\n",
    "    topics_info_df = topics_info_df.set_index('Topic')\n",
    "    cols = topics_info_df.columns.tolist()\n",
    "\n",
    "    return topics_info_df[cols + extra_cols]"
   ]
  },
  {
   "cell_type": "code",
   "execution_count": 41,
   "metadata": {},
   "outputs": [],
   "source": [
    "df_topic_info = get_topic_stats(topic_model)"
   ]
  },
  {
   "cell_type": "code",
   "execution_count": 42,
   "metadata": {},
   "outputs": [],
   "source": [
    "df_outlier_topic = df_topic_info.loc[-1].copy(deep=True)"
   ]
  },
  {
   "cell_type": "code",
   "execution_count": 43,
   "metadata": {},
   "outputs": [
    {
     "name": "stdout",
     "output_type": "stream",
     "text": [
      "Number of non-outlier documents: 9004\n",
      "Number of outlier documents: 3647\n",
      "Total number of documents: 12651\n",
      "Percentage of outlier documents: 28.83%\n"
     ]
    }
   ],
   "source": [
    "# We ignore index -1 here because in the function 'get_topic_stats' we sorted the topic info according to the 'Count' column.\n",
    "# So we can no longer rely on the very first row correlating to topic -1 (the topic for all outliers).\n",
    "# Instead we now calculate it here.\n",
    "count_non_outlier_documents = df_topic_info.drop(index=-1)['Count'].sum()\n",
    "print(f\"Number of non-outlier documents: {count_non_outlier_documents}\")\n",
    "\n",
    "count_outlier_documents = df_outlier_topic['Count'].sum(axis=0)\n",
    "print(f\"Number of outlier documents: {count_outlier_documents}\")\n",
    "\n",
    "assert len(docs) == count_non_outlier_documents + count_outlier_documents, \"The number of documents does not match the sum of the number of documents in the non-outlier topics and the outlier topic.\"\n",
    "\n",
    "print(f\"Total number of documents: {count_non_outlier_documents + count_outlier_documents}\")\n",
    "\n",
    "percentage_of_outliers = count_outlier_documents / len(docs) * 100.\n",
    "print(f\"Percentage of outlier documents: {percentage_of_outliers:.2f}%\")"
   ]
  },
  {
   "cell_type": "code",
   "execution_count": 44,
   "metadata": {},
   "outputs": [
    {
     "data": {
      "text/html": [
       "<div>\n",
       "<style scoped>\n",
       "    .dataframe tbody tr th:only-of-type {\n",
       "        vertical-align: middle;\n",
       "    }\n",
       "\n",
       "    .dataframe tbody tr th {\n",
       "        vertical-align: top;\n",
       "    }\n",
       "\n",
       "    .dataframe thead th {\n",
       "        text-align: right;\n",
       "    }\n",
       "</style>\n",
       "<table border=\"1\" class=\"dataframe\">\n",
       "  <thead>\n",
       "    <tr style=\"text-align: right;\">\n",
       "      <th></th>\n",
       "      <th>Count</th>\n",
       "      <th>Name</th>\n",
       "      <th>Representation</th>\n",
       "      <th>LLM</th>\n",
       "      <th>KeyBERT</th>\n",
       "      <th>Aspect1</th>\n",
       "      <th>Aspect2</th>\n",
       "      <th>Representative_Docs</th>\n",
       "      <th>Share</th>\n",
       "      <th>CumulativeShare</th>\n",
       "    </tr>\n",
       "    <tr>\n",
       "      <th>Topic</th>\n",
       "      <th></th>\n",
       "      <th></th>\n",
       "      <th></th>\n",
       "      <th></th>\n",
       "      <th></th>\n",
       "      <th></th>\n",
       "      <th></th>\n",
       "      <th></th>\n",
       "      <th></th>\n",
       "      <th></th>\n",
       "    </tr>\n",
       "  </thead>\n",
       "  <tbody>\n",
       "    <tr>\n",
       "      <th>-1</th>\n",
       "      <td>3647</td>\n",
       "      <td>-1_retinal_artificial_data_intelligence</td>\n",
       "      <td>[retinal, artificial, data, intelligence, artificial intelligence, images, patients, retina, clinical, based]</td>\n",
       "      <td>[Artificial Intelligence in Ophthalmology., , , , , , , , , ]</td>\n",
       "      <td>[age related macular degeneration, related macular degeneration, macular degeneration, age related macular, ophthalmology, related macular, retinopathy, macular, retinal, vision]</td>\n",
       "      <td>[retinal, artificial, data, intelligence, artificial intelligence, images, patients, retina, clinical, disease]</td>\n",
       "      <td>[macular degeneration, age related macular, ophthalmology, machine learning, retina, segmentation, telemedicine, degeneration, screening, optical]</td>\n",
       "      <td>[Studies are being conducted that prove that artificial intelligence algorithms can be used in the field of ophthalmology, especially in diabetic retinopathy, age-related macular degeneration, and retinopathy of prematurity., Then, a critical review of the main artificial intelligence applications in ophthalmology is presented, including diabetic retinopathy, age-related macular degeneration, retinopathy of prematurity, glaucoma, and other artificial intelligence-related topics such as image enhancement., In ophthalmology, artificial intelligence has delivered robust results in the screening and detection of diabetic retinopathy, age-related macular degeneration, glaucoma, and retinopathy of prematurity.]</td>\n",
       "      <td>28.827761</td>\n",
       "      <td>28.827761</td>\n",
       "    </tr>\n",
       "    <tr>\n",
       "      <th>0</th>\n",
       "      <td>1565</td>\n",
       "      <td>0_model_accuracy_curve_area</td>\n",
       "      <td>[model, accuracy, curve, area, learning, sensitivity, network, performance, specificity, deep]</td>\n",
       "      <td>[Performance Metrics for Models\\nB:\\nModel Evaluation Metrics, , , , , , , , , ]</td>\n",
       "      <td>[receiver operating characteristic curve, area receiver operating characteristic curve, receiver operating characteristic, operating characteristic curve, area receiver operating characteristic, sensitivity specificity, operating characteristic, area receiver operating, accuracy, curve area]</td>\n",
       "      <td>[model, accuracy, curve, area, learning, sensitivity, network, performance, specificity, deep]</td>\n",
       "      <td>[area receiver operating characteristic curve, operating characteristic, metrics, receiver operating, sensitivity, support vector machine, 95 ci, neural network, test set, f1 score]</td>\n",
       "      <td>[Sensitivity, specificity, accuracy, and area under the receiver operating characteristic curve (AUROC) were used to evaluate the model., The area under the receiver operating characteristic curve area under the curve, accuracy, sensitivity, and specificity of the model's performance were calculated and presented., The performance of each model was evaluated and compared based on accuracy, sensitivity, specificity, and area under the receiver operating characteristic curve (AUROC).]</td>\n",
       "      <td>12.370564</td>\n",
       "      <td>41.198324</td>\n",
       "    </tr>\n",
       "    <tr>\n",
       "      <th>1</th>\n",
       "      <td>950</td>\n",
       "      <td>1_deep_learning_deep learning_images</td>\n",
       "      <td>[deep, learning, deep learning, images, retinal, diabetic, neural, retinopathy, convolutional, diabetic retinopathy]</td>\n",
       "      <td>[Deep Learning Retinal Diabetic Retinopathy., , , , , , , , , ]</td>\n",
       "      <td>[diabetic retinopathy, deep learning algorithms, retinal images, macular degeneration, related macular degeneration, age related macular degeneration, deep learning system, deep learning algorithm, deep learning models, deep learning]</td>\n",
       "      <td>[deep, learning, deep learning, images, retinal, diabetic, neural, retinopathy, convolutional, diabetic retinopathy]</td>\n",
       "      <td>[diabetic retinopathy, deep learning algorithms, retinal images, age related macular degeneration, optical coherence tomography images, deep learning model, related macular, convolutional neural networks, ophthalmology, machine learning]</td>\n",
       "      <td>[We evaluated a deep-learning-aided diabetic retinopathy classification framework using volumetric optical coherence tomography and optical coherence tomography angiography., Single disease-based deep learning algorithms had been developed for the detection of diabetic retinopathy, age-related macular degeneration, and glaucoma., To evaluate the performance of a federated learning framework for deep neural network-based retinal microvasculature segmentation and referable diabetic retinopathy classification using optical coherence tomography and optical coherence tomography angiography.]</td>\n",
       "      <td>7.509288</td>\n",
       "      <td>48.707612</td>\n",
       "    </tr>\n",
       "    <tr>\n",
       "      <th>2</th>\n",
       "      <td>940</td>\n",
       "      <td>2_diabetic_diabetic retinopathy_retinopathy_diabetes</td>\n",
       "      <td>[diabetic, diabetic retinopathy, retinopathy, diabetes, screening, patients, macular, retinopathy screening, diabetic retinopathy screening, edema]</td>\n",
       "      <td>[Diabetic Retinopathy Screening\\n\\nThe main focus of this, , , , , , , , , ]</td>\n",
       "      <td>[referable diabetic retinopathy, screening diabetic retinopathy, diabetic retinopathy screening, diabetic retinopathy detection, detection diabetic retinopathy, diabetic retinopathy, diabetic retinopathy diabetic, retinopathy diabetic, threatening diabetic retinopathy, diabetic macular]</td>\n",
       "      <td>[diabetic, diabetic retinopathy, retinopathy, diabetes, screening, patients, macular, edema, macular edema, intelligence]</td>\n",
       "      <td>[referable diabetic retinopathy, diabetic retinopathy detection, diabetic retinopathy diabetic, non proliferative diabetic retinopathy, retinopathy screening, diabetic macular edema, screening diabetic, patients diabetic, age related macular degeneration, related macular]</td>\n",
       "      <td>[Deployed in community real-world clinic setting, artificial intelligence-based diabetic retinopathy screening system showed high specificity and acceptable sensitivity in identifying referable diabetic retinopathy and any diabetic retinopathy., Images were graded by two retina specialists as any diabetic retinopathy, prompt referral (moderate nonproliferative diabetic retinopathy non-proliferative diabetic retinopathy or above or presence of macular edema) and sight-threatening DR/STDR (severe non-proliferative diabetic retinopathy or above) and compared with artificial intelligence results., Retina specialists labeled the eyes as non-referable non-referable diabetic retinopathy, referable referable diabetic retinopathy, or vision threatening diabetic retinopathy.]</td>\n",
       "      <td>7.430243</td>\n",
       "      <td>56.137855</td>\n",
       "    </tr>\n",
       "    <tr>\n",
       "      <th>3</th>\n",
       "      <td>725</td>\n",
       "      <td>3_coherence_optical coherence_optical_coherence tomography</td>\n",
       "      <td>[coherence, optical coherence, optical, coherence tomography, optical coherence tomography, tomography, images, optical coherence tomography images, coherence tomography images, tomography images]</td>\n",
       "      <td>[\"Optical Coherence Tomography Images\", , , , , , , , , ]</td>\n",
       "      <td>[optical coherence tomography images, optical coherence tomography scans, optical coherence tomography angiography, optical coherence tomography imaging, optical coherence tomography, optical coherence tomography image, retinal optical coherence tomography, optical coherence tomography data, domain optical coherence tomography, spectral domain optical coherence tomography]</td>\n",
       "      <td>[coherence, optical coherence, optical, tomography, images, imaging, data, diabetic, clinical, quality]</td>\n",
       "      <td>[optical coherence tomography angiography, retinal optical coherence tomography, optical coherence tomography data, sd optical coherence tomography, retinal optical coherence, coherence tomography volumes, retinal optical, angiography, sd optical coherence, tomography imaging]</td>\n",
       "      <td>[Retinal layers of spectral domain optical coherence tomography spectral-domain optical coherence tomography volume scans were segmented., optical coherence tomography images were cross-, Optical coherence tomography and its angiography optical coherence tomography angiography have several advantages over fundus photographs.]</td>\n",
       "      <td>5.730772</td>\n",
       "      <td>61.868627</td>\n",
       "    </tr>\n",
       "  </tbody>\n",
       "</table>\n",
       "</div>"
      ],
      "text/plain": [
       "       Count                                                        Name  \\\n",
       "Topic                                                                      \n",
       "-1      3647                     -1_retinal_artificial_data_intelligence   \n",
       " 0      1565                                 0_model_accuracy_curve_area   \n",
       " 1       950                        1_deep_learning_deep learning_images   \n",
       " 2       940        2_diabetic_diabetic retinopathy_retinopathy_diabetes   \n",
       " 3       725  3_coherence_optical coherence_optical_coherence tomography   \n",
       "\n",
       "                                                                                                                                                                                             Representation  \\\n",
       "Topic                                                                                                                                                                                                         \n",
       "-1                                                                                            [retinal, artificial, data, intelligence, artificial intelligence, images, patients, retina, clinical, based]   \n",
       " 0                                                                                                           [model, accuracy, curve, area, learning, sensitivity, network, performance, specificity, deep]   \n",
       " 1                                                                                     [deep, learning, deep learning, images, retinal, diabetic, neural, retinopathy, convolutional, diabetic retinopathy]   \n",
       " 2                                                      [diabetic, diabetic retinopathy, retinopathy, diabetes, screening, patients, macular, retinopathy screening, diabetic retinopathy screening, edema]   \n",
       " 3     [coherence, optical coherence, optical, coherence tomography, optical coherence tomography, tomography, images, optical coherence tomography images, coherence tomography images, tomography images]   \n",
       "\n",
       "                                                                                    LLM  \\\n",
       "Topic                                                                                     \n",
       "-1                        [Artificial Intelligence in Ophthalmology., , , , , , , , , ]   \n",
       " 0     [Performance Metrics for Models\\nB:\\nModel Evaluation Metrics, , , , , , , , , ]   \n",
       " 1                      [Deep Learning Retinal Diabetic Retinopathy., , , , , , , , , ]   \n",
       " 2         [Diabetic Retinopathy Screening\\n\\nThe main focus of this, , , , , , , , , ]   \n",
       " 3                            [\"Optical Coherence Tomography Images\", , , , , , , , , ]   \n",
       "\n",
       "                                                                                                                                                                                                                                                                                                                                                                                       KeyBERT  \\\n",
       "Topic                                                                                                                                                                                                                                                                                                                                                                                            \n",
       "-1                                                                                                                                                                                                          [age related macular degeneration, related macular degeneration, macular degeneration, age related macular, ophthalmology, related macular, retinopathy, macular, retinal, vision]   \n",
       " 0                                                                                        [receiver operating characteristic curve, area receiver operating characteristic curve, receiver operating characteristic, operating characteristic curve, area receiver operating characteristic, sensitivity specificity, operating characteristic, area receiver operating, accuracy, curve area]   \n",
       " 1                                                                                                                                                  [diabetic retinopathy, deep learning algorithms, retinal images, macular degeneration, related macular degeneration, age related macular degeneration, deep learning system, deep learning algorithm, deep learning models, deep learning]   \n",
       " 2                                                                                             [referable diabetic retinopathy, screening diabetic retinopathy, diabetic retinopathy screening, diabetic retinopathy detection, detection diabetic retinopathy, diabetic retinopathy, diabetic retinopathy diabetic, retinopathy diabetic, threatening diabetic retinopathy, diabetic macular]   \n",
       " 3     [optical coherence tomography images, optical coherence tomography scans, optical coherence tomography angiography, optical coherence tomography imaging, optical coherence tomography, optical coherence tomography image, retinal optical coherence tomography, optical coherence tomography data, domain optical coherence tomography, spectral domain optical coherence tomography]   \n",
       "\n",
       "                                                                                                                         Aspect1  \\\n",
       "Topic                                                                                                                              \n",
       "-1               [retinal, artificial, data, intelligence, artificial intelligence, images, patients, retina, clinical, disease]   \n",
       " 0                                [model, accuracy, curve, area, learning, sensitivity, network, performance, specificity, deep]   \n",
       " 1          [deep, learning, deep learning, images, retinal, diabetic, neural, retinopathy, convolutional, diabetic retinopathy]   \n",
       " 2     [diabetic, diabetic retinopathy, retinopathy, diabetes, screening, patients, macular, edema, macular edema, intelligence]   \n",
       " 3                       [coherence, optical coherence, optical, tomography, images, imaging, data, diabetic, clinical, quality]   \n",
       "\n",
       "                                                                                                                                                                                                                                                                                     Aspect2  \\\n",
       "Topic                                                                                                                                                                                                                                                                                          \n",
       "-1                                                                                                                                        [macular degeneration, age related macular, ophthalmology, machine learning, retina, segmentation, telemedicine, degeneration, screening, optical]   \n",
       " 0                                                                                                     [area receiver operating characteristic curve, operating characteristic, metrics, receiver operating, sensitivity, support vector machine, 95 ci, neural network, test set, f1 score]   \n",
       " 1                                             [diabetic retinopathy, deep learning algorithms, retinal images, age related macular degeneration, optical coherence tomography images, deep learning model, related macular, convolutional neural networks, ophthalmology, machine learning]   \n",
       " 2          [referable diabetic retinopathy, diabetic retinopathy detection, diabetic retinopathy diabetic, non proliferative diabetic retinopathy, retinopathy screening, diabetic macular edema, screening diabetic, patients diabetic, age related macular degeneration, related macular]   \n",
       " 3     [optical coherence tomography angiography, retinal optical coherence tomography, optical coherence tomography data, sd optical coherence tomography, retinal optical coherence, coherence tomography volumes, retinal optical, angiography, sd optical coherence, tomography imaging]   \n",
       "\n",
       "                                                                                                                                                                                                                                                                                                                                                                                                                                                                                                                                                                                                                                                                                                                                                                                            Representative_Docs  \\\n",
       "Topic                                                                                                                                                                                                                                                                                                                                                                                                                                                                                                                                                                                                                                                                                                                                                                                                             \n",
       "-1                                                                   [Studies are being conducted that prove that artificial intelligence algorithms can be used in the field of ophthalmology, especially in diabetic retinopathy, age-related macular degeneration, and retinopathy of prematurity., Then, a critical review of the main artificial intelligence applications in ophthalmology is presented, including diabetic retinopathy, age-related macular degeneration, retinopathy of prematurity, glaucoma, and other artificial intelligence-related topics such as image enhancement., In ophthalmology, artificial intelligence has delivered robust results in the screening and detection of diabetic retinopathy, age-related macular degeneration, glaucoma, and retinopathy of prematurity.]   \n",
       " 0                                                                                                                                                                                                                                                                                                      [Sensitivity, specificity, accuracy, and area under the receiver operating characteristic curve (AUROC) were used to evaluate the model., The area under the receiver operating characteristic curve area under the curve, accuracy, sensitivity, and specificity of the model's performance were calculated and presented., The performance of each model was evaluated and compared based on accuracy, sensitivity, specificity, and area under the receiver operating characteristic curve (AUROC).]   \n",
       " 1                                                                                                                                                                                            [We evaluated a deep-learning-aided diabetic retinopathy classification framework using volumetric optical coherence tomography and optical coherence tomography angiography., Single disease-based deep learning algorithms had been developed for the detection of diabetic retinopathy, age-related macular degeneration, and glaucoma., To evaluate the performance of a federated learning framework for deep neural network-based retinal microvasculature segmentation and referable diabetic retinopathy classification using optical coherence tomography and optical coherence tomography angiography.]   \n",
       " 2     [Deployed in community real-world clinic setting, artificial intelligence-based diabetic retinopathy screening system showed high specificity and acceptable sensitivity in identifying referable diabetic retinopathy and any diabetic retinopathy., Images were graded by two retina specialists as any diabetic retinopathy, prompt referral (moderate nonproliferative diabetic retinopathy non-proliferative diabetic retinopathy or above or presence of macular edema) and sight-threatening DR/STDR (severe non-proliferative diabetic retinopathy or above) and compared with artificial intelligence results., Retina specialists labeled the eyes as non-referable non-referable diabetic retinopathy, referable referable diabetic retinopathy, or vision threatening diabetic retinopathy.]   \n",
       " 3                                                                                                                                                                                                                                                                                                                                                                                                                                                                      [Retinal layers of spectral domain optical coherence tomography spectral-domain optical coherence tomography volume scans were segmented., optical coherence tomography images were cross-, Optical coherence tomography and its angiography optical coherence tomography angiography have several advantages over fundus photographs.]   \n",
       "\n",
       "           Share  CumulativeShare  \n",
       "Topic                              \n",
       "-1     28.827761        28.827761  \n",
       " 0     12.370564        41.198324  \n",
       " 1      7.509288        48.707612  \n",
       " 2      7.430243        56.137855  \n",
       " 3      5.730772        61.868627  "
      ]
     },
     "metadata": {},
     "output_type": "display_data"
    }
   ],
   "source": [
    "# Print information about each topic - the contributing number of documents, the topics returned, etc.\n",
    "# Don't forget that our function 'get_topic_stats' sorted the topic info according to the 'Count' column.\n",
    "# Also, don't forget that index -1 is the topic for all outliers. I print it out here otherwise the 'Share'\n",
    "# and 'CumulativeShare' columns might not make sense to you otherwise.\n",
    "display(df_topic_info.head(5))"
   ]
  },
  {
   "cell_type": "code",
   "execution_count": 45,
   "metadata": {},
   "outputs": [
    {
     "data": {
      "text/html": [
       "<div>\n",
       "<style scoped>\n",
       "    .dataframe tbody tr th:only-of-type {\n",
       "        vertical-align: middle;\n",
       "    }\n",
       "\n",
       "    .dataframe tbody tr th {\n",
       "        vertical-align: top;\n",
       "    }\n",
       "\n",
       "    .dataframe thead th {\n",
       "        text-align: right;\n",
       "    }\n",
       "</style>\n",
       "<table border=\"1\" class=\"dataframe\">\n",
       "  <thead>\n",
       "    <tr style=\"text-align: right;\">\n",
       "      <th></th>\n",
       "      <th>Count</th>\n",
       "      <th>Name</th>\n",
       "      <th>Representation</th>\n",
       "      <th>LLM</th>\n",
       "      <th>KeyBERT</th>\n",
       "      <th>Aspect1</th>\n",
       "      <th>Aspect2</th>\n",
       "      <th>Representative_Docs</th>\n",
       "      <th>Share</th>\n",
       "      <th>CumulativeShare</th>\n",
       "    </tr>\n",
       "  </thead>\n",
       "  <tbody>\n",
       "    <tr>\n",
       "      <th>-1</th>\n",
       "      <td>3647</td>\n",
       "      <td>-1_retinal_artificial_data_intelligence</td>\n",
       "      <td>[retinal, artificial, data, intelligence, artificial intelligence, images, patients, retina, clinical, based]</td>\n",
       "      <td>[Artificial Intelligence in Ophthalmology., , , , , , , , , ]</td>\n",
       "      <td>[age related macular degeneration, related macular degeneration, macular degeneration, age related macular, ophthalmology, related macular, retinopathy, macular, retinal, vision]</td>\n",
       "      <td>[retinal, artificial, data, intelligence, artificial intelligence, images, patients, retina, clinical, disease]</td>\n",
       "      <td>[macular degeneration, age related macular, ophthalmology, machine learning, retina, segmentation, telemedicine, degeneration, screening, optical]</td>\n",
       "      <td>[Studies are being conducted that prove that artificial intelligence algorithms can be used in the field of ophthalmology, especially in diabetic retinopathy, age-related macular degeneration, and retinopathy of prematurity., Then, a critical review of the main artificial intelligence applications in ophthalmology is presented, including diabetic retinopathy, age-related macular degeneration, retinopathy of prematurity, glaucoma, and other artificial intelligence-related topics such as image enhancement., In ophthalmology, artificial intelligence has delivered robust results in the screening and detection of diabetic retinopathy, age-related macular degeneration, glaucoma, and retinopathy of prematurity.]</td>\n",
       "      <td>28.827761</td>\n",
       "      <td>28.827761</td>\n",
       "    </tr>\n",
       "  </tbody>\n",
       "</table>\n",
       "</div>"
      ],
      "text/plain": [
       "   Count                                     Name  \\\n",
       "-1  3647  -1_retinal_artificial_data_intelligence   \n",
       "\n",
       "                                                                                                   Representation  \\\n",
       "-1  [retinal, artificial, data, intelligence, artificial intelligence, images, patients, retina, clinical, based]   \n",
       "\n",
       "                                                              LLM  \\\n",
       "-1  [Artificial Intelligence in Ophthalmology., , , , , , , , , ]   \n",
       "\n",
       "                                                                                                                                                                               KeyBERT  \\\n",
       "-1  [age related macular degeneration, related macular degeneration, macular degeneration, age related macular, ophthalmology, related macular, retinopathy, macular, retinal, vision]   \n",
       "\n",
       "                                                                                                            Aspect1  \\\n",
       "-1  [retinal, artificial, data, intelligence, artificial intelligence, images, patients, retina, clinical, disease]   \n",
       "\n",
       "                                                                                                                                               Aspect2  \\\n",
       "-1  [macular degeneration, age related macular, ophthalmology, machine learning, retina, segmentation, telemedicine, degeneration, screening, optical]   \n",
       "\n",
       "                                                                                                                                                                                                                                                                                                                                                                                                                                                                                                                                                                                                                                                                                                                           Representative_Docs  \\\n",
       "-1  [Studies are being conducted that prove that artificial intelligence algorithms can be used in the field of ophthalmology, especially in diabetic retinopathy, age-related macular degeneration, and retinopathy of prematurity., Then, a critical review of the main artificial intelligence applications in ophthalmology is presented, including diabetic retinopathy, age-related macular degeneration, retinopathy of prematurity, glaucoma, and other artificial intelligence-related topics such as image enhancement., In ophthalmology, artificial intelligence has delivered robust results in the screening and detection of diabetic retinopathy, age-related macular degeneration, glaucoma, and retinopathy of prematurity.]   \n",
       "\n",
       "        Share CumulativeShare  \n",
       "-1  28.827761       28.827761  "
      ]
     },
     "metadata": {},
     "output_type": "display_data"
    }
   ],
   "source": [
    "display(pd.DataFrame(df_outlier_topic).T)"
   ]
  },
  {
   "cell_type": "markdown",
   "metadata": {},
   "source": [
    "## Visualization"
   ]
  },
  {
   "cell_type": "markdown",
   "metadata": {},
   "source": [
    "### Create labels"
   ]
  },
  {
   "cell_type": "code",
   "execution_count": 46,
   "metadata": {},
   "outputs": [],
   "source": [
    "import re\n",
    "\n",
    "# Create a label for each document.\n",
    "# We can use the labels created by the LLM and assign them to topics that we have created.\n",
    "llm_labels = [re.sub(r'\\W+', ' ', label[0][0].split(\"\\n\")[0].replace('\"', '')) for label in topic_model.get_topics(full=True)[\"LLM\"].values()]\n",
    "llm_labels = [label if label else \"Unlabelled\" for label in llm_labels]\n",
    "\n",
    "all_labels = [llm_labels[topic+topic_model._outliers] if topic != -1 else \"Unlabelled\" for topic in topics]\n",
    "all_labels = [label.strip() for label in all_labels]\n",
    "\n",
    "# Pre-reduce embeddings for visualization purposes\n",
    "reduced_embeddings = UMAP(n_neighbors=15, n_components=2, min_dist=0.0, metric='cosine', random_state=42).fit_transform(embeddings)"
   ]
  },
  {
   "cell_type": "code",
   "execution_count": 47,
   "metadata": {},
   "outputs": [],
   "source": [
    "series_all_labels = pd.Series(all_labels).value_counts()\n",
    "\n",
    "label_setter = {}\n",
    "\n",
    "j = 0\n",
    "for i, label in enumerate(series_all_labels.index):\n",
    "\n",
    "    if label != 'Unlabelled':\n",
    "        label_setter[j] = label.strip()\n",
    "        j += 1\n",
    "    else:\n",
    "        j = i\n",
    "\n",
    "topic_model.set_topic_labels(label_setter)"
   ]
  },
  {
   "cell_type": "markdown",
   "metadata": {},
   "source": [
    "### Visualize a barchart of selected topics"
   ]
  },
  {
   "cell_type": "code",
   "execution_count": 49,
   "metadata": {},
   "outputs": [
    {
     "data": {
      "application/vnd.plotly.v1+json": {
       "config": {
        "plotlyServerURL": "https://plot.ly"
       },
       "data": [
        {
         "marker": {
          "color": [
           "rgb(229, 134, 6)",
           "rgb(93, 105, 177)",
           "rgb(82, 188, 163)",
           "rgb(153, 201, 69)",
           "rgb(204, 97, 176)",
           "rgb(36, 121, 108)",
           "rgb(218, 165, 27)",
           "rgb(47, 138, 196)",
           "rgb(118, 78, 159)",
           "rgb(237, 100, 90)",
           "rgb(165, 170, 153)"
          ]
         },
         "orientation": "h",
         "type": "bar",
         "x": [
          0.006035516596391753,
          0.006240043101344613,
          0.0066622267358760956,
          0.007076126276723161,
          0.007137965945703356,
          0.0072014948573942555,
          0.007571398590441905,
          0.00771387733793551,
          0.009085236813812415,
          0.00929459825156279
         ],
         "xaxis": "x",
         "y": [
          "deep  ",
          "specificity  ",
          "performance  ",
          "network  ",
          "sensitivity  ",
          "learning  ",
          "area  ",
          "curve  ",
          "accuracy  ",
          "model  "
         ],
         "yaxis": "y"
        },
        {
         "marker": {
          "color": [
           "rgb(229, 134, 6)",
           "rgb(93, 105, 177)",
           "rgb(82, 188, 163)",
           "rgb(153, 201, 69)",
           "rgb(204, 97, 176)",
           "rgb(36, 121, 108)",
           "rgb(218, 165, 27)",
           "rgb(47, 138, 196)",
           "rgb(118, 78, 159)",
           "rgb(237, 100, 90)",
           "rgb(165, 170, 153)"
          ]
         },
         "orientation": "h",
         "type": "bar",
         "x": [
          0.007225444633611143,
          0.007251700786594557,
          0.007320172646850909,
          0.007641885855124328,
          0.00775883493454164,
          0.00821992726631645,
          0.008492326114347757,
          0.02152578230747999,
          0.021591359112006443,
          0.02316007528622377
         ],
         "xaxis": "x2",
         "y": [
          "diabetic retinopathy  ",
          "convolutional  ",
          "retinopathy  ",
          "neural  ",
          "diabetic  ",
          "retinal  ",
          "images  ",
          "deep learning  ",
          "learning  ",
          "deep  "
         ],
         "yaxis": "y2"
        },
        {
         "marker": {
          "color": [
           "rgb(229, 134, 6)",
           "rgb(93, 105, 177)",
           "rgb(82, 188, 163)",
           "rgb(153, 201, 69)",
           "rgb(204, 97, 176)",
           "rgb(36, 121, 108)",
           "rgb(218, 165, 27)",
           "rgb(47, 138, 196)",
           "rgb(118, 78, 159)",
           "rgb(237, 100, 90)",
           "rgb(165, 170, 153)"
          ]
         },
         "orientation": "h",
         "type": "bar",
         "x": [
          0.006177844029495873,
          0.00630837652362946,
          0.0063626811005265665,
          0.0064246820239101015,
          0.00647259080474685,
          0.010320755060767984,
          0.010590076312699606,
          0.03427180260591056,
          0.03495652875801655,
          0.03885133153543665
         ],
         "xaxis": "x3",
         "y": [
          "edema  ",
          "diabetic retinopathy screening  ",
          "retinopathy screening  ",
          "macular  ",
          "patients  ",
          "screening  ",
          "diabetes  ",
          "retinopathy  ",
          "diabetic retinopathy  ",
          "diabetic  "
         ],
         "yaxis": "y3"
        },
        {
         "marker": {
          "color": [
           "rgb(229, 134, 6)",
           "rgb(93, 105, 177)",
           "rgb(82, 188, 163)",
           "rgb(153, 201, 69)",
           "rgb(204, 97, 176)",
           "rgb(36, 121, 108)",
           "rgb(218, 165, 27)",
           "rgb(47, 138, 196)",
           "rgb(118, 78, 159)",
           "rgb(237, 100, 90)",
           "rgb(165, 170, 153)"
          ]
         },
         "orientation": "h",
         "type": "bar",
         "x": [
          0.009282815844653016,
          0.009290276813914394,
          0.009290276813914394,
          0.009619559006168076,
          0.03542334071776258,
          0.035729085854416455,
          0.035763576038430556,
          0.0357869091337835,
          0.03591923221856659,
          0.0360224204767071
         ],
         "xaxis": "x4",
         "y": [
          "tomography images  ",
          "coherence tomography images  ",
          "optical coherence tomography images  ",
          "images  ",
          "tomography  ",
          "optical coherence tomography  ",
          "coherence tomography  ",
          "optical  ",
          "optical coherence  ",
          "coherence  "
         ],
         "yaxis": "y4"
        },
        {
         "marker": {
          "color": [
           "rgb(229, 134, 6)",
           "rgb(93, 105, 177)",
           "rgb(82, 188, 163)",
           "rgb(153, 201, 69)",
           "rgb(204, 97, 176)",
           "rgb(36, 121, 108)",
           "rgb(218, 165, 27)",
           "rgb(47, 138, 196)",
           "rgb(118, 78, 159)",
           "rgb(237, 100, 90)",
           "rgb(165, 170, 153)"
          ]
         },
         "orientation": "h",
         "type": "bar",
         "x": [
          0.0050005882926379775,
          0.005222152128456795,
          0.005390030286980789,
          0.005958866314821369,
          0.006148327568381209,
          0.00642411070870549,
          0.01011371318596582,
          0.011347288170610346,
          0.01575830042551268,
          0.016529666712856692
         ],
         "xaxis": "x5",
         "y": [
          "acuity  ",
          "specialists  ",
          "visual  ",
          "imaging  ",
          "fundus images  ",
          "image  ",
          "retina  ",
          "images  ",
          "fundus  ",
          "retinal  "
         ],
         "yaxis": "y5"
        },
        {
         "marker": {
          "color": [
           "rgb(229, 134, 6)",
           "rgb(93, 105, 177)",
           "rgb(82, 188, 163)",
           "rgb(153, 201, 69)",
           "rgb(204, 97, 176)",
           "rgb(36, 121, 108)",
           "rgb(218, 165, 27)",
           "rgb(47, 138, 196)",
           "rgb(118, 78, 159)",
           "rgb(237, 100, 90)",
           "rgb(165, 170, 153)"
          ]
         },
         "orientation": "h",
         "type": "bar",
         "x": [
          0.005098135615696422,
          0.005244936675028667,
          0.006164064908642288,
          0.0062983906302875895,
          0.0062983906302875895,
          0.006344913356273267,
          0.01585891566742321,
          0.025445303696159816,
          0.025506139300020624,
          0.02561247349109186
         ],
         "xaxis": "x6",
         "y": [
          "eye  ",
          "surgical  ",
          "surgery  ",
          "artificial intelligence ophthalmology  ",
          "intelligence ophthalmology  ",
          "ophthalmic  ",
          "ophthalmology  ",
          "intelligence  ",
          "artificial intelligence  ",
          "artificial  "
         ],
         "yaxis": "y6"
        },
        {
         "marker": {
          "color": [
           "rgb(229, 134, 6)",
           "rgb(93, 105, 177)",
           "rgb(82, 188, 163)",
           "rgb(153, 201, 69)",
           "rgb(204, 97, 176)",
           "rgb(36, 121, 108)",
           "rgb(218, 165, 27)",
           "rgb(47, 138, 196)",
           "rgb(118, 78, 159)",
           "rgb(237, 100, 90)",
           "rgb(165, 170, 153)"
          ]
         },
         "orientation": "h",
         "type": "bar",
         "x": [
          0.007304723577873172,
          0.007868544267347703,
          0.007877573912212773,
          0.008150627974100334,
          0.00894215323148307,
          0.009088645911490433,
          0.009140788396283432,
          0.00963436221854511,
          0.013912654953909951,
          0.01415887141505063
         ],
         "xaxis": "x7",
         "y": [
          "conducted  ",
          "included  ",
          "journals  ",
          "studies  ",
          "analysis  ",
          "review  ",
          "search  ",
          "publications  ",
          "study  ",
          "articles  "
         ],
         "yaxis": "y7"
        },
        {
         "marker": {
          "color": [
           "rgb(229, 134, 6)",
           "rgb(93, 105, 177)",
           "rgb(82, 188, 163)",
           "rgb(153, 201, 69)",
           "rgb(204, 97, 176)",
           "rgb(36, 121, 108)",
           "rgb(218, 165, 27)",
           "rgb(47, 138, 196)",
           "rgb(118, 78, 159)",
           "rgb(237, 100, 90)",
           "rgb(165, 170, 153)"
          ]
         },
         "orientation": "h",
         "type": "bar",
         "x": [
          0.004351803353594399,
          0.004374422251283125,
          0.004432265957129475,
          0.004467355141120226,
          0.004802637462075662,
          0.00492119448164516,
          0.0055744906300424476,
          0.006657850081336301,
          0.008658286666793262,
          0.009411444882001163
         ],
         "xaxis": "x8",
         "y": [
          "spike  ",
          "kim  ",
          "network  ",
          "lee  ",
          "dynamics  ",
          "brain  ",
          "model  ",
          "neurons  ",
          "visual  ",
          "neural  "
         ],
         "yaxis": "y8"
        },
        {
         "marker": {
          "color": [
           "rgb(229, 134, 6)",
           "rgb(93, 105, 177)",
           "rgb(82, 188, 163)",
           "rgb(153, 201, 69)",
           "rgb(204, 97, 176)",
           "rgb(36, 121, 108)",
           "rgb(218, 165, 27)",
           "rgb(47, 138, 196)",
           "rgb(118, 78, 159)",
           "rgb(237, 100, 90)",
           "rgb(165, 170, 153)"
          ]
         },
         "orientation": "h",
         "type": "bar",
         "x": [
          0.007206463702611341,
          0.007675627577291333,
          0.008066274452853506,
          0.008254805122615649,
          0.01011575085299399,
          0.010194269765231216,
          0.010315639791107724,
          0.0160788267016566,
          0.017837077145220308,
          0.026498378632685407
         ],
         "xaxis": "x9",
         "y": [
          "natural language  ",
          "large language models  ",
          "large  ",
          "language models  ",
          "ophthalmology  ",
          "gpt  ",
          "large language  ",
          "questions  ",
          "language  ",
          "chatgpt  "
         ],
         "yaxis": "y9"
        },
        {
         "marker": {
          "color": [
           "rgb(229, 134, 6)",
           "rgb(93, 105, 177)",
           "rgb(82, 188, 163)",
           "rgb(153, 201, 69)",
           "rgb(204, 97, 176)",
           "rgb(36, 121, 108)",
           "rgb(218, 165, 27)",
           "rgb(47, 138, 196)",
           "rgb(118, 78, 159)",
           "rgb(237, 100, 90)",
           "rgb(165, 170, 153)"
          ]
         },
         "orientation": "h",
         "type": "bar",
         "x": [
          0.0066431052218822615,
          0.0066697206588872985,
          0.007118542950791369,
          0.00733772064205712,
          0.008351987648931148,
          0.009238441333373452,
          0.009580121680130897,
          0.031229575047832143,
          0.03157943477476332,
          0.03161350282005697
         ],
         "xaxis": "x10",
         "y": [
          "machine  ",
          "health  ",
          "care  ",
          "data  ",
          "medical  ",
          "clinical  ",
          "medicine  ",
          "artificial  ",
          "artificial intelligence  ",
          "intelligence  "
         ],
         "yaxis": "y10"
        },
        {
         "marker": {
          "color": [
           "rgb(229, 134, 6)",
           "rgb(93, 105, 177)",
           "rgb(82, 188, 163)",
           "rgb(153, 201, 69)",
           "rgb(204, 97, 176)",
           "rgb(36, 121, 108)",
           "rgb(218, 165, 27)",
           "rgb(47, 138, 196)",
           "rgb(118, 78, 159)",
           "rgb(237, 100, 90)",
           "rgb(165, 170, 153)"
          ]
         },
         "orientation": "h",
         "type": "bar",
         "x": [
          0.00747275576704839,
          0.007502015529177703,
          0.008039400255425542,
          0.008986771186145817,
          0.00970682561951222,
          0.011216310082316334,
          0.011647728150998161,
          0.011936484019187968,
          0.015409164001649926,
          0.028790563642196086
         ],
         "xaxis": "x11",
         "y": [
          "images  ",
          "retina  ",
          "diseases  ",
          "blood  ",
          "retinal vascular  ",
          "vessel  ",
          "segmentation  ",
          "vessels  ",
          "vascular  ",
          "retinal  "
         ],
         "yaxis": "y11"
        },
        {
         "marker": {
          "color": [
           "rgb(229, 134, 6)",
           "rgb(93, 105, 177)",
           "rgb(82, 188, 163)",
           "rgb(153, 201, 69)",
           "rgb(204, 97, 176)",
           "rgb(36, 121, 108)",
           "rgb(218, 165, 27)",
           "rgb(47, 138, 196)",
           "rgb(118, 78, 159)",
           "rgb(237, 100, 90)",
           "rgb(165, 170, 153)"
          ]
         },
         "orientation": "h",
         "type": "bar",
         "x": [
          0.006131037260042478,
          0.006233969931341404,
          0.006325073653782206,
          0.00644133316597003,
          0.006454349216120036,
          0.006566762709977817,
          0.006647564346339905,
          0.006730737235781201,
          0.01061256245499525,
          0.04558584848121738
         ],
         "xaxis": "x12",
         "y": [
          "visual  ",
          "probability scores  ",
          "glaucoma probability scores  ",
          "probability  ",
          "early  ",
          "eyes  ",
          "glaucoma probability  ",
          "disc  ",
          "glaucomatous  ",
          "glaucoma  "
         ],
         "yaxis": "y12"
        },
        {
         "marker": {
          "color": [
           "rgb(229, 134, 6)",
           "rgb(93, 105, 177)",
           "rgb(82, 188, 163)",
           "rgb(153, 201, 69)",
           "rgb(204, 97, 176)",
           "rgb(36, 121, 108)",
           "rgb(218, 165, 27)",
           "rgb(47, 138, 196)",
           "rgb(118, 78, 159)",
           "rgb(237, 100, 90)",
           "rgb(165, 170, 153)"
          ]
         },
         "orientation": "h",
         "type": "bar",
         "x": [
          0.00650498136452043,
          0.006905003884420367,
          0.007196037417277274,
          0.0077212673944385656,
          0.008260584209732885,
          0.008562524968870772,
          0.008562740869603742,
          0.011023015695585812,
          0.011827800585437342,
          0.020186820137201092
         ],
         "xaxis": "x13",
         "y": [
          "hospital  ",
          "eye  ",
          "department  ",
          "study  ",
          "patients  ",
          "ophthalmic  ",
          "included  ",
          "data  ",
          "eyes  ",
          "ophthalmology  "
         ],
         "yaxis": "y13"
        },
        {
         "marker": {
          "color": [
           "rgb(229, 134, 6)",
           "rgb(93, 105, 177)",
           "rgb(82, 188, 163)",
           "rgb(153, 201, 69)",
           "rgb(204, 97, 176)",
           "rgb(36, 121, 108)",
           "rgb(218, 165, 27)",
           "rgb(47, 138, 196)",
           "rgb(118, 78, 159)",
           "rgb(237, 100, 90)",
           "rgb(165, 170, 153)"
          ]
         },
         "orientation": "h",
         "type": "bar",
         "x": [
          0.005093134334519069,
          0.0056645024889715135,
          0.006279908311676723,
          0.006438933687031466,
          0.007021953320778906,
          0.007276433638389247,
          0.007919608459140165,
          0.00794379493990994,
          0.009651867402147867,
          0.010233529299767525
         ],
         "xaxis": "x14",
         "y": [
          "time  ",
          "patient  ",
          "health  ",
          "cost  ",
          "disease  ",
          "early  ",
          "patients  ",
          "screening  ",
          "treatment  ",
          "clinical  "
         ],
         "yaxis": "y14"
        },
        {
         "marker": {
          "color": [
           "rgb(229, 134, 6)",
           "rgb(93, 105, 177)",
           "rgb(82, 188, 163)",
           "rgb(153, 201, 69)",
           "rgb(204, 97, 176)",
           "rgb(36, 121, 108)",
           "rgb(218, 165, 27)",
           "rgb(47, 138, 196)",
           "rgb(118, 78, 159)",
           "rgb(237, 100, 90)",
           "rgb(165, 170, 153)"
          ]
         },
         "orientation": "h",
         "type": "bar",
         "x": [
          0.005814279731129595,
          0.006190090274937775,
          0.006741669915414646,
          0.006865969060603891,
          0.008055133993006964,
          0.008383952197534001,
          0.010494677187768508,
          0.029111025979710926,
          0.029899440767961874,
          0.029953120388872455
         ],
         "xaxis": "x15",
         "y": [
          "neural networks  ",
          "models  ",
          "networks  ",
          "diagnosis  ",
          "neural  ",
          "clinical  ",
          "medical  ",
          "learning  ",
          "deep learning  ",
          "deep  "
         ],
         "yaxis": "y15"
        },
        {
         "marker": {
          "color": [
           "rgb(229, 134, 6)",
           "rgb(93, 105, 177)",
           "rgb(82, 188, 163)",
           "rgb(153, 201, 69)",
           "rgb(204, 97, 176)",
           "rgb(36, 121, 108)",
           "rgb(218, 165, 27)",
           "rgb(47, 138, 196)",
           "rgb(118, 78, 159)",
           "rgb(237, 100, 90)",
           "rgb(165, 170, 153)"
          ]
         },
         "orientation": "h",
         "type": "bar",
         "x": [
          0.008510802370791352,
          0.00938210248785571,
          0.00938210248785571,
          0.009501523419213941,
          0.009574652667140271,
          0.0124665094827708,
          0.013313384968183555,
          0.034805699297554005,
          0.03906574366957212,
          0.04038168967123683
         ],
         "xaxis": "x16",
         "y": [
          "parkinson disease  ",
          "parkinson  ",
          "amyloid  ",
          "changes  ",
          "aβ  ",
          "brain  ",
          "retinal  ",
          "disease  ",
          "alzheimer disease  ",
          "alzheimer  "
         ],
         "yaxis": "y16"
        }
       ],
       "layout": {
        "annotations": [
         {
          "font": {
           "size": 16
          },
          "showarrow": false,
          "text": "Performance Metrics for Models",
          "x": 0.0875,
          "xanchor": "center",
          "xref": "paper",
          "y": 1,
          "yanchor": "bottom",
          "yref": "paper"
         },
         {
          "font": {
           "size": 16
          },
          "showarrow": false,
          "text": "Deep Learning Retinal Diabetic Retinopathy",
          "x": 0.36250000000000004,
          "xanchor": "center",
          "xref": "paper",
          "y": 1,
          "yanchor": "bottom",
          "yref": "paper"
         },
         {
          "font": {
           "size": 16
          },
          "showarrow": false,
          "text": "Diabetic Retinopathy Screening",
          "x": 0.6375000000000001,
          "xanchor": "center",
          "xref": "paper",
          "y": 1,
          "yanchor": "bottom",
          "yref": "paper"
         },
         {
          "font": {
           "size": 16
          },
          "showarrow": false,
          "text": "Optical Coherence Tomography Images",
          "x": 0.9125,
          "xanchor": "center",
          "xref": "paper",
          "y": 1,
          "yanchor": "bottom",
          "yref": "paper"
         },
         {
          "font": {
           "size": 16
          },
          "showarrow": false,
          "text": "Retinal Image Analysis System",
          "x": 0.0875,
          "xanchor": "center",
          "xref": "paper",
          "y": 0.7250000000000001,
          "yanchor": "bottom",
          "yref": "paper"
         },
         {
          "font": {
           "size": 16
          },
          "showarrow": false,
          "text": "AI in Ophthalmology",
          "x": 0.36250000000000004,
          "xanchor": "center",
          "xref": "paper",
          "y": 0.7250000000000001,
          "yanchor": "bottom",
          "yref": "paper"
         },
         {
          "font": {
           "size": 16
          },
          "showarrow": false,
          "text": "Systematic Review and Meta Analysis",
          "x": 0.6375000000000001,
          "xanchor": "center",
          "xref": "paper",
          "y": 0.7250000000000001,
          "yanchor": "bottom",
          "yref": "paper"
         },
         {
          "font": {
           "size": 16
          },
          "showarrow": false,
          "text": "Neural networks and spikes",
          "x": 0.9125,
          "xanchor": "center",
          "xref": "paper",
          "y": 0.7250000000000001,
          "yanchor": "bottom",
          "yref": "paper"
         },
         {
          "font": {
           "size": 16
          },
          "showarrow": false,
          "text": "NLP in Ophthalmology",
          "x": 0.0875,
          "xanchor": "center",
          "xref": "paper",
          "y": 0.45,
          "yanchor": "bottom",
          "yref": "paper"
         },
         {
          "font": {
           "size": 16
          },
          "showarrow": false,
          "text": "Artificial Intelligence in Medicine",
          "x": 0.36250000000000004,
          "xanchor": "center",
          "xref": "paper",
          "y": 0.45,
          "yanchor": "bottom",
          "yref": "paper"
         },
         {
          "font": {
           "size": 16
          },
          "showarrow": false,
          "text": "Retinal Vessel Segmentation",
          "x": 0.6375000000000001,
          "xanchor": "center",
          "xref": "paper",
          "y": 0.45,
          "yanchor": "bottom",
          "yref": "paper"
         },
         {
          "font": {
           "size": 16
          },
          "showarrow": false,
          "text": "Glaucoma Probability Scores",
          "x": 0.9125,
          "xanchor": "center",
          "xref": "paper",
          "y": 0.45,
          "yanchor": "bottom",
          "yref": "paper"
         },
         {
          "font": {
           "size": 16
          },
          "showarrow": false,
          "text": "Big data in Ophthalmology",
          "x": 0.0875,
          "xanchor": "center",
          "xref": "paper",
          "y": 0.175,
          "yanchor": "bottom",
          "yref": "paper"
         },
         {
          "font": {
           "size": 16
          },
          "showarrow": false,
          "text": "Early Disease Screening and Treatment",
          "x": 0.36250000000000004,
          "xanchor": "center",
          "xref": "paper",
          "y": 0.175,
          "yanchor": "bottom",
          "yref": "paper"
         },
         {
          "font": {
           "size": 16
          },
          "showarrow": false,
          "text": "Deep Learning Diagnostics",
          "x": 0.6375000000000001,
          "xanchor": "center",
          "xref": "paper",
          "y": 0.175,
          "yanchor": "bottom",
          "yref": "paper"
         },
         {
          "font": {
           "size": 16
          },
          "showarrow": false,
          "text": "Retinal Imaging for Alzheimer s Disease",
          "x": 0.9125,
          "xanchor": "center",
          "xref": "paper",
          "y": 0.175,
          "yanchor": "bottom",
          "yref": "paper"
         }
        ],
        "font": {
         "color": "#000000",
         "family": "Roboto",
         "size": 10
        },
        "height": 1200,
        "hoverlabel": {
         "bgcolor": "white",
         "font": {
          "family": "Rockwell",
          "size": 16
         }
        },
        "margin": {
         "b": 20,
         "l": 20,
         "r": 50,
         "t": 80
        },
        "plot_bgcolor": "rgba(0,0,0,0)",
        "showlegend": false,
        "template": {
         "data": {
          "bar": [
           {
            "error_x": {
             "color": "#2a3f5f"
            },
            "error_y": {
             "color": "#2a3f5f"
            },
            "marker": {
             "line": {
              "color": "white",
              "width": 0.5
             },
             "pattern": {
              "fillmode": "overlay",
              "size": 10,
              "solidity": 0.2
             }
            },
            "type": "bar"
           }
          ],
          "barpolar": [
           {
            "marker": {
             "line": {
              "color": "white",
              "width": 0.5
             },
             "pattern": {
              "fillmode": "overlay",
              "size": 10,
              "solidity": 0.2
             }
            },
            "type": "barpolar"
           }
          ],
          "carpet": [
           {
            "aaxis": {
             "endlinecolor": "#2a3f5f",
             "gridcolor": "#C8D4E3",
             "linecolor": "#C8D4E3",
             "minorgridcolor": "#C8D4E3",
             "startlinecolor": "#2a3f5f"
            },
            "baxis": {
             "endlinecolor": "#2a3f5f",
             "gridcolor": "#C8D4E3",
             "linecolor": "#C8D4E3",
             "minorgridcolor": "#C8D4E3",
             "startlinecolor": "#2a3f5f"
            },
            "type": "carpet"
           }
          ],
          "choropleth": [
           {
            "colorbar": {
             "outlinewidth": 0,
             "ticks": ""
            },
            "type": "choropleth"
           }
          ],
          "contour": [
           {
            "colorbar": {
             "outlinewidth": 0,
             "ticks": ""
            },
            "colorscale": [
             [
              0,
              "#0d0887"
             ],
             [
              0.1111111111111111,
              "#46039f"
             ],
             [
              0.2222222222222222,
              "#7201a8"
             ],
             [
              0.3333333333333333,
              "#9c179e"
             ],
             [
              0.4444444444444444,
              "#bd3786"
             ],
             [
              0.5555555555555556,
              "#d8576b"
             ],
             [
              0.6666666666666666,
              "#ed7953"
             ],
             [
              0.7777777777777778,
              "#fb9f3a"
             ],
             [
              0.8888888888888888,
              "#fdca26"
             ],
             [
              1,
              "#f0f921"
             ]
            ],
            "type": "contour"
           }
          ],
          "contourcarpet": [
           {
            "colorbar": {
             "outlinewidth": 0,
             "ticks": ""
            },
            "type": "contourcarpet"
           }
          ],
          "heatmap": [
           {
            "colorbar": {
             "outlinewidth": 0,
             "ticks": ""
            },
            "colorscale": [
             [
              0,
              "#0d0887"
             ],
             [
              0.1111111111111111,
              "#46039f"
             ],
             [
              0.2222222222222222,
              "#7201a8"
             ],
             [
              0.3333333333333333,
              "#9c179e"
             ],
             [
              0.4444444444444444,
              "#bd3786"
             ],
             [
              0.5555555555555556,
              "#d8576b"
             ],
             [
              0.6666666666666666,
              "#ed7953"
             ],
             [
              0.7777777777777778,
              "#fb9f3a"
             ],
             [
              0.8888888888888888,
              "#fdca26"
             ],
             [
              1,
              "#f0f921"
             ]
            ],
            "type": "heatmap"
           }
          ],
          "heatmapgl": [
           {
            "colorbar": {
             "outlinewidth": 0,
             "ticks": ""
            },
            "colorscale": [
             [
              0,
              "#0d0887"
             ],
             [
              0.1111111111111111,
              "#46039f"
             ],
             [
              0.2222222222222222,
              "#7201a8"
             ],
             [
              0.3333333333333333,
              "#9c179e"
             ],
             [
              0.4444444444444444,
              "#bd3786"
             ],
             [
              0.5555555555555556,
              "#d8576b"
             ],
             [
              0.6666666666666666,
              "#ed7953"
             ],
             [
              0.7777777777777778,
              "#fb9f3a"
             ],
             [
              0.8888888888888888,
              "#fdca26"
             ],
             [
              1,
              "#f0f921"
             ]
            ],
            "type": "heatmapgl"
           }
          ],
          "histogram": [
           {
            "marker": {
             "pattern": {
              "fillmode": "overlay",
              "size": 10,
              "solidity": 0.2
             }
            },
            "type": "histogram"
           }
          ],
          "histogram2d": [
           {
            "colorbar": {
             "outlinewidth": 0,
             "ticks": ""
            },
            "colorscale": [
             [
              0,
              "#0d0887"
             ],
             [
              0.1111111111111111,
              "#46039f"
             ],
             [
              0.2222222222222222,
              "#7201a8"
             ],
             [
              0.3333333333333333,
              "#9c179e"
             ],
             [
              0.4444444444444444,
              "#bd3786"
             ],
             [
              0.5555555555555556,
              "#d8576b"
             ],
             [
              0.6666666666666666,
              "#ed7953"
             ],
             [
              0.7777777777777778,
              "#fb9f3a"
             ],
             [
              0.8888888888888888,
              "#fdca26"
             ],
             [
              1,
              "#f0f921"
             ]
            ],
            "type": "histogram2d"
           }
          ],
          "histogram2dcontour": [
           {
            "colorbar": {
             "outlinewidth": 0,
             "ticks": ""
            },
            "colorscale": [
             [
              0,
              "#0d0887"
             ],
             [
              0.1111111111111111,
              "#46039f"
             ],
             [
              0.2222222222222222,
              "#7201a8"
             ],
             [
              0.3333333333333333,
              "#9c179e"
             ],
             [
              0.4444444444444444,
              "#bd3786"
             ],
             [
              0.5555555555555556,
              "#d8576b"
             ],
             [
              0.6666666666666666,
              "#ed7953"
             ],
             [
              0.7777777777777778,
              "#fb9f3a"
             ],
             [
              0.8888888888888888,
              "#fdca26"
             ],
             [
              1,
              "#f0f921"
             ]
            ],
            "type": "histogram2dcontour"
           }
          ],
          "mesh3d": [
           {
            "colorbar": {
             "outlinewidth": 0,
             "ticks": ""
            },
            "type": "mesh3d"
           }
          ],
          "parcoords": [
           {
            "line": {
             "colorbar": {
              "outlinewidth": 0,
              "ticks": ""
             }
            },
            "type": "parcoords"
           }
          ],
          "pie": [
           {
            "automargin": true,
            "type": "pie"
           }
          ],
          "scatter": [
           {
            "fillpattern": {
             "fillmode": "overlay",
             "size": 10,
             "solidity": 0.2
            },
            "type": "scatter"
           }
          ],
          "scatter3d": [
           {
            "line": {
             "colorbar": {
              "outlinewidth": 0,
              "ticks": ""
             }
            },
            "marker": {
             "colorbar": {
              "outlinewidth": 0,
              "ticks": ""
             }
            },
            "type": "scatter3d"
           }
          ],
          "scattercarpet": [
           {
            "marker": {
             "colorbar": {
              "outlinewidth": 0,
              "ticks": ""
             }
            },
            "type": "scattercarpet"
           }
          ],
          "scattergeo": [
           {
            "marker": {
             "colorbar": {
              "outlinewidth": 0,
              "ticks": ""
             }
            },
            "type": "scattergeo"
           }
          ],
          "scattergl": [
           {
            "marker": {
             "colorbar": {
              "outlinewidth": 0,
              "ticks": ""
             }
            },
            "type": "scattergl"
           }
          ],
          "scattermapbox": [
           {
            "marker": {
             "colorbar": {
              "outlinewidth": 0,
              "ticks": ""
             }
            },
            "type": "scattermapbox"
           }
          ],
          "scatterpolar": [
           {
            "marker": {
             "colorbar": {
              "outlinewidth": 0,
              "ticks": ""
             }
            },
            "type": "scatterpolar"
           }
          ],
          "scatterpolargl": [
           {
            "marker": {
             "colorbar": {
              "outlinewidth": 0,
              "ticks": ""
             }
            },
            "type": "scatterpolargl"
           }
          ],
          "scatterternary": [
           {
            "marker": {
             "colorbar": {
              "outlinewidth": 0,
              "ticks": ""
             }
            },
            "type": "scatterternary"
           }
          ],
          "surface": [
           {
            "colorbar": {
             "outlinewidth": 0,
             "ticks": ""
            },
            "colorscale": [
             [
              0,
              "#0d0887"
             ],
             [
              0.1111111111111111,
              "#46039f"
             ],
             [
              0.2222222222222222,
              "#7201a8"
             ],
             [
              0.3333333333333333,
              "#9c179e"
             ],
             [
              0.4444444444444444,
              "#bd3786"
             ],
             [
              0.5555555555555556,
              "#d8576b"
             ],
             [
              0.6666666666666666,
              "#ed7953"
             ],
             [
              0.7777777777777778,
              "#fb9f3a"
             ],
             [
              0.8888888888888888,
              "#fdca26"
             ],
             [
              1,
              "#f0f921"
             ]
            ],
            "type": "surface"
           }
          ],
          "table": [
           {
            "cells": {
             "fill": {
              "color": "#EBF0F8"
             },
             "line": {
              "color": "white"
             }
            },
            "header": {
             "fill": {
              "color": "#C8D4E3"
             },
             "line": {
              "color": "white"
             }
            },
            "type": "table"
           }
          ]
         },
         "layout": {
          "annotationdefaults": {
           "arrowcolor": "#2a3f5f",
           "arrowhead": 0,
           "arrowwidth": 1
          },
          "autotypenumbers": "strict",
          "coloraxis": {
           "colorbar": {
            "outlinewidth": 0,
            "ticks": ""
           }
          },
          "colorscale": {
           "diverging": [
            [
             0,
             "#8e0152"
            ],
            [
             0.1,
             "#c51b7d"
            ],
            [
             0.2,
             "#de77ae"
            ],
            [
             0.3,
             "#f1b6da"
            ],
            [
             0.4,
             "#fde0ef"
            ],
            [
             0.5,
             "#f7f7f7"
            ],
            [
             0.6,
             "#e6f5d0"
            ],
            [
             0.7,
             "#b8e186"
            ],
            [
             0.8,
             "#7fbc41"
            ],
            [
             0.9,
             "#4d9221"
            ],
            [
             1,
             "#276419"
            ]
           ],
           "sequential": [
            [
             0,
             "#0d0887"
            ],
            [
             0.1111111111111111,
             "#46039f"
            ],
            [
             0.2222222222222222,
             "#7201a8"
            ],
            [
             0.3333333333333333,
             "#9c179e"
            ],
            [
             0.4444444444444444,
             "#bd3786"
            ],
            [
             0.5555555555555556,
             "#d8576b"
            ],
            [
             0.6666666666666666,
             "#ed7953"
            ],
            [
             0.7777777777777778,
             "#fb9f3a"
            ],
            [
             0.8888888888888888,
             "#fdca26"
            ],
            [
             1,
             "#f0f921"
            ]
           ],
           "sequentialminus": [
            [
             0,
             "#0d0887"
            ],
            [
             0.1111111111111111,
             "#46039f"
            ],
            [
             0.2222222222222222,
             "#7201a8"
            ],
            [
             0.3333333333333333,
             "#9c179e"
            ],
            [
             0.4444444444444444,
             "#bd3786"
            ],
            [
             0.5555555555555556,
             "#d8576b"
            ],
            [
             0.6666666666666666,
             "#ed7953"
            ],
            [
             0.7777777777777778,
             "#fb9f3a"
            ],
            [
             0.8888888888888888,
             "#fdca26"
            ],
            [
             1,
             "#f0f921"
            ]
           ]
          },
          "colorway": [
           "#636efa",
           "#EF553B",
           "#00cc96",
           "#ab63fa",
           "#FFA15A",
           "#19d3f3",
           "#FF6692",
           "#B6E880",
           "#FF97FF",
           "#FECB52"
          ],
          "font": {
           "color": "#2a3f5f"
          },
          "geo": {
           "bgcolor": "white",
           "lakecolor": "white",
           "landcolor": "white",
           "showlakes": true,
           "showland": true,
           "subunitcolor": "#C8D4E3"
          },
          "hoverlabel": {
           "align": "left"
          },
          "hovermode": "closest",
          "mapbox": {
           "style": "light"
          },
          "paper_bgcolor": "white",
          "plot_bgcolor": "white",
          "polar": {
           "angularaxis": {
            "gridcolor": "#EBF0F8",
            "linecolor": "#EBF0F8",
            "ticks": ""
           },
           "bgcolor": "white",
           "radialaxis": {
            "gridcolor": "#EBF0F8",
            "linecolor": "#EBF0F8",
            "ticks": ""
           }
          },
          "scene": {
           "xaxis": {
            "backgroundcolor": "white",
            "gridcolor": "#DFE8F3",
            "gridwidth": 2,
            "linecolor": "#EBF0F8",
            "showbackground": true,
            "ticks": "",
            "zerolinecolor": "#EBF0F8"
           },
           "yaxis": {
            "backgroundcolor": "white",
            "gridcolor": "#DFE8F3",
            "gridwidth": 2,
            "linecolor": "#EBF0F8",
            "showbackground": true,
            "ticks": "",
            "zerolinecolor": "#EBF0F8"
           },
           "zaxis": {
            "backgroundcolor": "white",
            "gridcolor": "#DFE8F3",
            "gridwidth": 2,
            "linecolor": "#EBF0F8",
            "showbackground": true,
            "ticks": "",
            "zerolinecolor": "#EBF0F8"
           }
          },
          "shapedefaults": {
           "line": {
            "color": "#2a3f5f"
           }
          },
          "ternary": {
           "aaxis": {
            "gridcolor": "#DFE8F3",
            "linecolor": "#A2B1C6",
            "ticks": ""
           },
           "baxis": {
            "gridcolor": "#DFE8F3",
            "linecolor": "#A2B1C6",
            "ticks": ""
           },
           "bgcolor": "white",
           "caxis": {
            "gridcolor": "#DFE8F3",
            "linecolor": "#A2B1C6",
            "ticks": ""
           }
          },
          "title": {
           "x": 0.05
          },
          "xaxis": {
           "automargin": true,
           "gridcolor": "#EBF0F8",
           "linecolor": "#EBF0F8",
           "ticks": "",
           "title": {
            "standoff": 15
           },
           "zerolinecolor": "#EBF0F8",
           "zerolinewidth": 2
          },
          "yaxis": {
           "automargin": true,
           "gridcolor": "#EBF0F8",
           "linecolor": "#EBF0F8",
           "ticks": "",
           "title": {
            "standoff": 15
           },
           "zerolinecolor": "#EBF0F8",
           "zerolinewidth": 2
          }
         }
        },
        "title": {
         "font": {
          "color": "#000000",
          "family": "Roboto Black",
          "size": 24
         },
         "text": "Top 16 topics visualized by the frequency of the top 10 words/phrases",
         "x": 0.5,
         "xanchor": "center",
         "y": 0.975,
         "yanchor": "top"
        },
        "width": 1200,
        "xaxis": {
         "anchor": "y",
         "domain": [
          0,
          0.175
         ],
         "showgrid": true
        },
        "xaxis10": {
         "anchor": "y10",
         "domain": [
          0.275,
          0.45
         ],
         "showgrid": true
        },
        "xaxis11": {
         "anchor": "y11",
         "domain": [
          0.55,
          0.7250000000000001
         ],
         "showgrid": true
        },
        "xaxis12": {
         "anchor": "y12",
         "domain": [
          0.825,
          1
         ],
         "showgrid": true
        },
        "xaxis13": {
         "anchor": "y13",
         "domain": [
          0,
          0.175
         ],
         "showgrid": true
        },
        "xaxis14": {
         "anchor": "y14",
         "domain": [
          0.275,
          0.45
         ],
         "showgrid": true
        },
        "xaxis15": {
         "anchor": "y15",
         "domain": [
          0.55,
          0.7250000000000001
         ],
         "showgrid": true
        },
        "xaxis16": {
         "anchor": "y16",
         "domain": [
          0.825,
          1
         ],
         "showgrid": true
        },
        "xaxis2": {
         "anchor": "y2",
         "domain": [
          0.275,
          0.45
         ],
         "showgrid": true
        },
        "xaxis3": {
         "anchor": "y3",
         "domain": [
          0.55,
          0.7250000000000001
         ],
         "showgrid": true
        },
        "xaxis4": {
         "anchor": "y4",
         "domain": [
          0.825,
          1
         ],
         "showgrid": true
        },
        "xaxis5": {
         "anchor": "y5",
         "domain": [
          0,
          0.175
         ],
         "showgrid": true
        },
        "xaxis6": {
         "anchor": "y6",
         "domain": [
          0.275,
          0.45
         ],
         "showgrid": true
        },
        "xaxis7": {
         "anchor": "y7",
         "domain": [
          0.55,
          0.7250000000000001
         ],
         "showgrid": true
        },
        "xaxis8": {
         "anchor": "y8",
         "domain": [
          0.825,
          1
         ],
         "showgrid": true
        },
        "xaxis9": {
         "anchor": "y9",
         "domain": [
          0,
          0.175
         ],
         "showgrid": true
        },
        "yaxis": {
         "anchor": "x",
         "domain": [
          0.825,
          1
         ],
         "showgrid": true
        },
        "yaxis10": {
         "anchor": "x10",
         "domain": [
          0.275,
          0.45
         ],
         "showgrid": true
        },
        "yaxis11": {
         "anchor": "x11",
         "domain": [
          0.275,
          0.45
         ],
         "showgrid": true
        },
        "yaxis12": {
         "anchor": "x12",
         "domain": [
          0.275,
          0.45
         ],
         "showgrid": true
        },
        "yaxis13": {
         "anchor": "x13",
         "domain": [
          0,
          0.175
         ],
         "showgrid": true
        },
        "yaxis14": {
         "anchor": "x14",
         "domain": [
          0,
          0.175
         ],
         "showgrid": true
        },
        "yaxis15": {
         "anchor": "x15",
         "domain": [
          0,
          0.175
         ],
         "showgrid": true
        },
        "yaxis16": {
         "anchor": "x16",
         "domain": [
          0,
          0.175
         ],
         "showgrid": true
        },
        "yaxis2": {
         "anchor": "x2",
         "domain": [
          0.825,
          1
         ],
         "showgrid": true
        },
        "yaxis3": {
         "anchor": "x3",
         "domain": [
          0.825,
          1
         ],
         "showgrid": true
        },
        "yaxis4": {
         "anchor": "x4",
         "domain": [
          0.825,
          1
         ],
         "showgrid": true
        },
        "yaxis5": {
         "anchor": "x5",
         "domain": [
          0.55,
          0.7250000000000001
         ],
         "showgrid": true
        },
        "yaxis6": {
         "anchor": "x6",
         "domain": [
          0.55,
          0.7250000000000001
         ],
         "showgrid": true
        },
        "yaxis7": {
         "anchor": "x7",
         "domain": [
          0.55,
          0.7250000000000001
         ],
         "showgrid": true
        },
        "yaxis8": {
         "anchor": "x8",
         "domain": [
          0.55,
          0.7250000000000001
         ],
         "showgrid": true
        },
        "yaxis9": {
         "anchor": "x9",
         "domain": [
          0.275,
          0.45
         ],
         "showgrid": true
        }
       }
      }
     },
     "metadata": {},
     "output_type": "display_data"
    }
   ],
   "source": [
    "import plotly.express as px\n",
    "\n",
    "top_n_topics = 16\n",
    "n_words = 10\n",
    "\n",
    "# 'fig_barchart' is a plotly figure.\n",
    "fig_barchart = topic_model.visualize_barchart(\n",
    "    top_n_topics = top_n_topics,  # Only select the top n most frequent topics.\n",
    "    n_words = n_words,            # Number of words to show in a topic.\n",
    "    custom_labels=True,          # Whether to use custom topic labels that were defined using topic_model.set_topic_labels.\n",
    "    title=f\"Top {top_n_topics} topics visualized by the frequency of the top {n_words} words\",\n",
    "    width=300,\n",
    "    height=300,\n",
    ")\n",
    "\n",
    "fig_barchart.update_layout(\n",
    "    # Adjust left, right, top, bottom margin of the overall figure.\n",
    "    margin=dict(l=20, r=50, t=80, b=20),\n",
    "\n",
    "    plot_bgcolor='rgba(0,0,0,0)',         # Set background color (transparent in this example).\n",
    "\n",
    "    title={\n",
    "        'text': f\"Top {top_n_topics} topics visualized by the frequency of the top {n_words} words/phrases\",\n",
    "        'y':0.975,\n",
    "        'x':0.5,\n",
    "        'xanchor': 'center',\n",
    "        'yanchor': 'top',\n",
    "        'font': dict(\n",
    "            family=\"Roboto Black\",\n",
    "            size=24,\n",
    "            color=\"#000000\"\n",
    "        )\n",
    "    },\n",
    "\n",
    "    font=dict(\n",
    "        family=\"Roboto\",\n",
    "        size=10,\n",
    "        color=\"#000000\"\n",
    "    ),\n",
    ")\n",
    "\n",
    "color_sequence = px.colors.qualitative.Vivid  # Choose a color sequence.\n",
    "fig_barchart.update_traces(marker_color=color_sequence)\n",
    "\n",
    "# Show the updated figure\n",
    "fig_barchart.show()"
   ]
  },
  {
   "cell_type": "markdown",
   "metadata": {},
   "source": [
    "### Visualize a hierarchical structure of the topics\n",
    "* Create a hierarchy of topics.\n",
    "* To create this hierarchy, BERTopic needs to be already fitted once. Then, a hierarchy is calculated on the distance matrix of the c-TF-IDF representation using scipy.cluster.hierarchy.linkage.\n",
    "\n",
    "* Based on that hierarchy, we calculate the topic representation at each merged step. This is a local representation, as we only assume that the chosen step is merged and not all others which typically improves the topic representation.\n",
    "\n",
    "* We use this for the plots:\n",
    "    * \"Visualize documents and their topics in 2D at different levels of hierarchy\".\n",
    "    * \"Visualize a hierarchical structure of the topics\".\n",
    "    * \"Visualize the Topic Tree\"."
   ]
  },
  {
   "cell_type": "code",
   "execution_count": 51,
   "metadata": {},
   "outputs": [
    {
     "name": "stderr",
     "output_type": "stream",
     "text": [
      "100%|██████████| 28/28 [00:00<00:00, 41.41it/s]\n"
     ]
    }
   ],
   "source": [
    "from scipy.cluster import hierarchy as sch\n",
    "\n",
    "linkage_function = lambda x: sch.linkage(x, 'ward', optimal_ordering=True)\n",
    "\n",
    "# Extract hierarchical topics and their representations.\n",
    "# A dataframe that contains a hierarchy of topics represented by their parents and their children.\n",
    "hierarchical_topics: pd.DataFrame = topic_model.hierarchical_topics(docs, linkage_function=linkage_function)"
   ]
  },
  {
   "cell_type": "markdown",
   "metadata": {},
   "source": [
    "* A ward linkage function is used to perform the hierarchical clustering based on the cosine distance matrix between topic embeddings."
   ]
  },
  {
   "cell_type": "code",
   "execution_count": 52,
   "metadata": {},
   "outputs": [
    {
     "data": {
      "application/vnd.plotly.v1+json": {
       "config": {
        "plotlyServerURL": "https://plot.ly"
       },
       "data": [
        {
         "hoverinfo": "text",
         "marker": {
          "color": "rgb(61,153,112)"
         },
         "mode": "lines",
         "text": [
          "Macular Degeneration Grading",
          "",
          "",
          "Age Related Macular Degeneration"
         ],
         "type": "scatter",
         "x": [
          0,
          0.5025829050675696,
          0.5025829050675696,
          0
         ],
         "xaxis": "x",
         "y": [
          -15,
          -15,
          -25,
          -25
         ],
         "yaxis": "y"
        },
        {
         "hoverinfo": "text",
         "marker": {
          "color": "rgb(61,153,112)"
         },
         "mode": "lines",
         "text": [
          "Macular Degeneration Genetics",
          "",
          "",
          "age related_degeneration_macular degeneration_age related macular degeneration_related macular degeneration"
         ],
         "type": "scatter",
         "x": [
          0,
          0.8431426046605179,
          0.8431426046605179,
          0.5025829050675696
         ],
         "xaxis": "x",
         "y": [
          -5,
          -5,
          -20,
          -20
         ],
         "yaxis": "y"
        },
        {
         "hoverinfo": "text",
         "marker": {
          "color": "rgb(255,65,54)"
         },
         "mode": "lines",
         "text": [
          "Retinal Imaging for Alzheimer s Disease",
          "",
          "",
          "Glaucoma Probability Scores"
         ],
         "type": "scatter",
         "x": [
          0,
          0.9255863141946009,
          0.9255863141946009,
          0
         ],
         "xaxis": "x",
         "y": [
          -45,
          -45,
          -55,
          -55
         ],
         "yaxis": "y"
        },
        {
         "hoverinfo": "text",
         "marker": {
          "color": "rgb(255,65,54)"
         },
         "mode": "lines",
         "text": [
          "Retinal Image Analysis System",
          "",
          "",
          "Retinal Vessel Segmentation"
         ],
         "type": "scatter",
         "x": [
          0,
          0.7420664842261978,
          0.7420664842261978,
          0
         ],
         "xaxis": "x",
         "y": [
          -65,
          -65,
          -75,
          -75
         ],
         "yaxis": "y"
        },
        {
         "hoverinfo": "text",
         "marker": {
          "color": "rgb(255,65,54)"
         },
         "mode": "lines",
         "text": [
          "retinal_fundus_images_retina_image",
          "",
          "",
          "Vessel Segmentation Methods"
         ],
         "type": "scatter",
         "x": [
          0.7420664842261978,
          0.8925654997234729,
          0.8925654997234729,
          0
         ],
         "xaxis": "x",
         "y": [
          -70,
          -70,
          -85,
          -85
         ],
         "yaxis": "y"
        },
        {
         "hoverinfo": "text",
         "marker": {
          "color": "rgb(255,65,54)"
         },
         "mode": "lines",
         "text": [
          "glaucoma_alzheimer_alzheimer disease_disease_retinal",
          "",
          "",
          "retinal_fundus_images_retina_vessel"
         ],
         "type": "scatter",
         "x": [
          0.9255863141946009,
          0.9364818576776596,
          0.9364818576776596,
          0.8925654997234729
         ],
         "xaxis": "x",
         "y": [
          -50,
          -50,
          -77.5,
          -77.5
         ],
         "yaxis": "y"
        },
        {
         "hoverinfo": "text",
         "marker": {
          "color": "rgb(255,65,54)"
         },
         "mode": "lines",
         "text": [
          "Neurobiological Disorders Retinal Investigations",
          "",
          "",
          "retinal_glaucoma_fundus_images_disease"
         ],
         "type": "scatter",
         "x": [
          0,
          0.9689642439851632,
          0.9689642439851632,
          0.9364818576776596
         ],
         "xaxis": "x",
         "y": [
          -35,
          -35,
          -63.75,
          -63.75
         ],
         "yaxis": "y"
        },
        {
         "hoverinfo": "text",
         "marker": {
          "color": "rgb(35,205,205)"
         },
         "mode": "lines",
         "text": [
          "Generative Adversarial Networks",
          "",
          "",
          "Optical Coherence Tomography Images"
         ],
         "type": "scatter",
         "x": [
          0,
          0.8324492762273905,
          0.8324492762273905,
          0
         ],
         "xaxis": "x",
         "y": [
          -95,
          -95,
          -105,
          -105
         ],
         "yaxis": "y"
        },
        {
         "hoverinfo": "text",
         "marker": {
          "color": "rgb(35,205,205)"
         },
         "mode": "lines",
         "text": [
          "coherence_optical coherence_optical_coherence tomography_optical coherence tomography",
          "",
          "",
          "Choroidal Vessel Characteristics"
         ],
         "type": "scatter",
         "x": [
          0.8324492762273905,
          0.9375528731025957,
          0.9375528731025957,
          0
         ],
         "xaxis": "x",
         "y": [
          -100,
          -100,
          -115,
          -115
         ],
         "yaxis": "y"
        },
        {
         "hoverinfo": "text",
         "marker": {
          "color": "rgb(0,116,217)"
         },
         "mode": "lines",
         "text": [
          "retinal_fundus_glaucoma_images_disease",
          "",
          "",
          "coherence_optical coherence_optical_coherence tomography_optical coherence tomography"
         ],
         "type": "scatter",
         "x": [
          0.9689642439851632,
          1.0035097288741637,
          1.0035097288741637,
          0.9375528731025957
         ],
         "xaxis": "x",
         "y": [
          -49.375,
          -49.375,
          -107.5,
          -107.5
         ],
         "yaxis": "y"
        },
        {
         "hoverinfo": "text",
         "marker": {
          "color": "rgb(133,20,75)"
         },
         "mode": "lines",
         "text": [
          "Diabetic Retinopathy Screening",
          "",
          "",
          "Retinopathy of Prematurity Screening"
         ],
         "type": "scatter",
         "x": [
          0,
          0.8284332478075931,
          0.8284332478075931,
          0
         ],
         "xaxis": "x",
         "y": [
          -125,
          -125,
          -135,
          -135
         ],
         "yaxis": "y"
        },
        {
         "hoverinfo": "text",
         "marker": {
          "color": "rgb(0,116,217)"
         },
         "mode": "lines",
         "text": [
          "tomography_coherence_optical_optical coherence_coherence tomography",
          "",
          "",
          "diabetic_retinopathy_diabetic retinopathy_screening_diabetes"
         ],
         "type": "scatter",
         "x": [
          1.0035097288741637,
          1.0147315071799445,
          1.0147315071799445,
          0.8284332478075931
         ],
         "xaxis": "x",
         "y": [
          -78.4375,
          -78.4375,
          -130,
          -130
         ],
         "yaxis": "y"
        },
        {
         "hoverinfo": "text",
         "marker": {
          "color": "rgb(255,220,0)"
         },
         "mode": "lines",
         "text": [
          "Deep Learning Diagnostics",
          "",
          "",
          "Deep Learning Retinal Diabetic Retinopathy"
         ],
         "type": "scatter",
         "x": [
          0,
          0.5281378822340128,
          0.5281378822340128,
          0
         ],
         "xaxis": "x",
         "y": [
          -145,
          -145,
          -155,
          -155
         ],
         "yaxis": "y"
        },
        {
         "hoverinfo": "text",
         "marker": {
          "color": "rgb(255,220,0)"
         },
         "mode": "lines",
         "text": [
          "deep_deep learning_learning_images_neural",
          "",
          "",
          "Performance Metrics for Models"
         ],
         "type": "scatter",
         "x": [
          0.5281378822340128,
          0.7073206302653436,
          0.7073206302653436,
          0
         ],
         "xaxis": "x",
         "y": [
          -150,
          -150,
          -165,
          -165
         ],
         "yaxis": "y"
        },
        {
         "hoverinfo": "text",
         "marker": {
          "color": "rgb(0,116,217)"
         },
         "mode": "lines",
         "text": [
          "diabetic_retinopathy_diabetic retinopathy_tomography_coherence",
          "",
          "",
          "deep_learning_deep learning_network_model"
         ],
         "type": "scatter",
         "x": [
          1.0147315071799445,
          1.07646931884007,
          1.07646931884007,
          0.7073206302653436
         ],
         "xaxis": "x",
         "y": [
          -104.21875,
          -104.21875,
          -157.5,
          -157.5
         ],
         "yaxis": "y"
        },
        {
         "hoverinfo": "text",
         "marker": {
          "color": "rgb(40,35,35)"
         },
         "mode": "lines",
         "text": [
          "Neural networks and spikes",
          "",
          "",
          "Neuromorphic Visual Sensing"
         ],
         "type": "scatter",
         "x": [
          0,
          0.9203323202663602,
          0.9203323202663602,
          0
         ],
         "xaxis": "x",
         "y": [
          -185,
          -185,
          -195,
          -195
         ],
         "yaxis": "y"
        },
        {
         "hoverinfo": "text",
         "marker": {
          "color": "rgb(0,116,217)"
         },
         "mode": "lines",
         "text": [
          "Proprietary Commercial Disclosure",
          "",
          "",
          "visual_neural_neurons_model_brain"
         ],
         "type": "scatter",
         "x": [
          0,
          1.0188490811876896,
          1.0188490811876896,
          0.9203323202663602
         ],
         "xaxis": "x",
         "y": [
          -175,
          -175,
          -190,
          -190
         ],
         "yaxis": "y"
        },
        {
         "hoverinfo": "text",
         "marker": {
          "color": "rgb(61,153,112)"
         },
         "mode": "lines",
         "text": [
          "NLP in Ophthalmology",
          "",
          "",
          "Telemedicine in Ophthalmology"
         ],
         "type": "scatter",
         "x": [
          0,
          0.913263785107355,
          0.913263785107355,
          0
         ],
         "xaxis": "x",
         "y": [
          -215,
          -215,
          -225,
          -225
         ],
         "yaxis": "y"
        },
        {
         "hoverinfo": "text",
         "marker": {
          "color": "rgb(61,153,112)"
         },
         "mode": "lines",
         "text": [
          "Big data in Ophthalmology",
          "",
          "",
          "Systematic Review and Meta Analysis"
         ],
         "type": "scatter",
         "x": [
          0,
          0.8760349117805566,
          0.8760349117805566,
          0
         ],
         "xaxis": "x",
         "y": [
          -235,
          -235,
          -245,
          -245
         ],
         "yaxis": "y"
        },
        {
         "hoverinfo": "text",
         "marker": {
          "color": "rgb(61,153,112)"
         },
         "mode": "lines",
         "text": [
          "chatgpt_language_questions_ophthalmology_large language",
          "",
          "",
          "study_ophthalmology_articles_included_data"
         ],
         "type": "scatter",
         "x": [
          0.913263785107355,
          0.9329916576101783,
          0.9329916576101783,
          0.8760349117805566
         ],
         "xaxis": "x",
         "y": [
          -220,
          -220,
          -240,
          -240
         ],
         "yaxis": "y"
        },
        {
         "hoverinfo": "text",
         "marker": {
          "color": "rgb(61,153,112)"
         },
         "mode": "lines",
         "text": [
          "Early Disease Screening and Treatment",
          "",
          "",
          "chatgpt_ophthalmology_language_study_questions"
         ],
         "type": "scatter",
         "x": [
          0,
          0.9533431945816696,
          0.9533431945816696,
          0.9329916576101783
         ],
         "xaxis": "x",
         "y": [
          -205,
          -205,
          -230,
          -230
         ],
         "yaxis": "y"
        },
        {
         "hoverinfo": "text",
         "marker": {
          "color": "rgb(61,153,112)"
         },
         "mode": "lines",
         "text": [
          "chatgpt_ophthalmology_study_language_questions",
          "",
          "",
          "AI based Myopia Identification"
         ],
         "type": "scatter",
         "x": [
          0.9533431945816696,
          0.9859426375073002,
          0.9859426375073002,
          0
         ],
         "xaxis": "x",
         "y": [
          -217.5,
          -217.5,
          -255,
          -255
         ],
         "yaxis": "y"
        },
        {
         "hoverinfo": "text",
         "marker": {
          "color": "rgb(0,116,217)"
         },
         "mode": "lines",
         "text": [
          "visual_neural_neurons_model_brain",
          "",
          "",
          "chatgpt_ophthalmology_study_language_questions"
         ],
         "type": "scatter",
         "x": [
          1.0188490811876896,
          1.056321360644744,
          1.056321360644744,
          0.9859426375073002
         ],
         "xaxis": "x",
         "y": [
          -182.5,
          -182.5,
          -236.25,
          -236.25
         ],
         "yaxis": "y"
        },
        {
         "hoverinfo": "text",
         "marker": {
          "color": "rgb(255,65,54)"
         },
         "mode": "lines",
         "text": [
          "Artificial Intelligence in Medicine",
          "",
          "",
          "AI in Ophthalmology"
         ],
         "type": "scatter",
         "x": [
          0,
          0.47946240798875495,
          0.47946240798875495,
          0
         ],
         "xaxis": "x",
         "y": [
          -265,
          -265,
          -275,
          -275
         ],
         "yaxis": "y"
        },
        {
         "hoverinfo": "text",
         "marker": {
          "color": "rgb(255,65,54)"
         },
         "mode": "lines",
         "text": [
          "artificial intelligence_intelligence_artificial_ophthalmology_clinical",
          "",
          "",
          "Artificial Intelligence Development"
         ],
         "type": "scatter",
         "x": [
          0.47946240798875495,
          0.7592711755133307,
          0.7592711755133307,
          0
         ],
         "xaxis": "x",
         "y": [
          -270,
          -270,
          -285,
          -285
         ],
         "yaxis": "y"
        },
        {
         "hoverinfo": "text",
         "marker": {
          "color": "rgb(0,116,217)"
         },
         "mode": "lines",
         "text": [
          "chatgpt_ophthalmology_study_language_questions",
          "",
          "",
          "artificial intelligence_intelligence_artificial_ophthalmology_clinical"
         ],
         "type": "scatter",
         "x": [
          1.056321360644744,
          1.1866406126076339,
          1.1866406126076339,
          0.7592711755133307
         ],
         "xaxis": "x",
         "y": [
          -209.375,
          -209.375,
          -277.5,
          -277.5
         ],
         "yaxis": "y"
        },
        {
         "hoverinfo": "text",
         "marker": {
          "color": "rgb(0,116,217)"
         },
         "mode": "lines",
         "text": [
          "diabetic_learning_retinopathy_deep_diabetic retinopathy",
          "",
          "",
          "artificial_intelligence_artificial intelligence_ophthalmology_data"
         ],
         "type": "scatter",
         "x": [
          1.07646931884007,
          1.2772040611138906,
          1.2772040611138906,
          1.1866406126076339
         ],
         "xaxis": "x",
         "y": [
          -130.859375,
          -130.859375,
          -243.4375,
          -243.4375
         ],
         "yaxis": "y"
        },
        {
         "hoverinfo": "text",
         "marker": {
          "color": "rgb(0,116,217)"
         },
         "mode": "lines",
         "text": [
          "age_degeneration_age related_macular degeneration_age related macular",
          "",
          "",
          "learning_diabetic_retinopathy_artificial_deep"
         ],
         "type": "scatter",
         "x": [
          0.8431426046605179,
          1.300782730279466,
          1.300782730279466,
          1.2772040611138906
         ],
         "xaxis": "x",
         "y": [
          -12.5,
          -12.5,
          -187.1484375,
          -187.1484375
         ],
         "yaxis": "y"
        },
        {
         "hoverinfo": "text",
         "hovertext": [
          "retinal_fundus_images_retina_image",
          "glaucoma_alzheimer_alzheimer disease_disease_retinal",
          "coherence_optical coherence_optical_coherence tomography_optical coherence tomography",
          "retinal_fundus_glaucoma_images_disease",
          "tomography_coherence_optical_optical coherence_coherence tomography",
          "deep_deep learning_learning_images_neural",
          "diabetic_retinopathy_diabetic retinopathy_tomography_coherence",
          "chatgpt_language_questions_ophthalmology_large language",
          "chatgpt_ophthalmology_study_language_questions",
          "visual_neural_neurons_model_brain",
          "artificial intelligence_intelligence_artificial_ophthalmology_clinical",
          "chatgpt_ophthalmology_study_language_questions",
          "diabetic_learning_retinopathy_deep_diabetic retinopathy",
          "age_degeneration_age related_macular degeneration_age related macular"
         ],
         "marker": {
          "color": "black"
         },
         "mode": "markers",
         "showlegend": false,
         "type": "scatter",
         "x": [
          0.7420664842261978,
          0.9255863141946009,
          0.8324492762273905,
          0.9689642439851632,
          1.0035097288741637,
          0.5281378822340128,
          1.0147315071799445,
          0.913263785107355,
          0.9533431945816696,
          1.0188490811876896,
          0.47946240798875495,
          1.056321360644744,
          1.07646931884007,
          0.8431426046605179
         ],
         "y": [
          -70,
          -50,
          -100,
          -49.375,
          -78.4375,
          -150,
          -104.21875,
          -220,
          -217.5,
          -182.5,
          -270,
          -209.375,
          -130.859375,
          -12.5
         ]
        },
        {
         "hoverinfo": "text",
         "hovertext": [
          "age related_degeneration_macular degeneration_age related macular degeneration_related macular degeneration",
          "retinal_fundus_images_retina_vessel",
          "retinal_glaucoma_fundus_images_disease",
          "coherence_optical coherence_optical_coherence tomography_optical coherence tomography",
          "diabetic_retinopathy_diabetic retinopathy_screening_diabetes",
          "deep_learning_deep learning_network_model",
          "visual_neural_neurons_model_brain",
          "study_ophthalmology_articles_included_data",
          "chatgpt_ophthalmology_language_study_questions",
          "chatgpt_ophthalmology_study_language_questions",
          "artificial intelligence_intelligence_artificial_ophthalmology_clinical",
          "artificial_intelligence_artificial intelligence_ophthalmology_data",
          "learning_diabetic_retinopathy_artificial_deep"
         ],
         "marker": {
          "color": "black"
         },
         "mode": "markers",
         "showlegend": false,
         "type": "scatter",
         "x": [
          0.5025829050675696,
          0.8925654997234729,
          0.9364818576776596,
          0.9375528731025957,
          0.8284332478075931,
          0.7073206302653436,
          0.9203323202663602,
          0.8760349117805566,
          0.9329916576101783,
          0.9859426375073002,
          0.7592711755133307,
          1.1866406126076339,
          1.2772040611138906
         ],
         "y": [
          -20,
          -77.5,
          -63.75,
          -107.5,
          -130,
          -157.5,
          -190,
          -240,
          -230,
          -236.25,
          -277.5,
          -243.4375,
          -187.1484375
         ]
        }
       ],
       "layout": {
        "autosize": false,
        "height": 635,
        "hoverlabel": {
         "bgcolor": "white",
         "font": {
          "family": "Rockwell",
          "size": 16
         }
        },
        "hovermode": "closest",
        "margin": {
         "b": 20,
         "l": 20,
         "r": 20,
         "t": 60
        },
        "plot_bgcolor": "#ECEFF1",
        "showlegend": false,
        "template": {
         "data": {
          "bar": [
           {
            "error_x": {
             "color": "#2a3f5f"
            },
            "error_y": {
             "color": "#2a3f5f"
            },
            "marker": {
             "line": {
              "color": "white",
              "width": 0.5
             },
             "pattern": {
              "fillmode": "overlay",
              "size": 10,
              "solidity": 0.2
             }
            },
            "type": "bar"
           }
          ],
          "barpolar": [
           {
            "marker": {
             "line": {
              "color": "white",
              "width": 0.5
             },
             "pattern": {
              "fillmode": "overlay",
              "size": 10,
              "solidity": 0.2
             }
            },
            "type": "barpolar"
           }
          ],
          "carpet": [
           {
            "aaxis": {
             "endlinecolor": "#2a3f5f",
             "gridcolor": "#C8D4E3",
             "linecolor": "#C8D4E3",
             "minorgridcolor": "#C8D4E3",
             "startlinecolor": "#2a3f5f"
            },
            "baxis": {
             "endlinecolor": "#2a3f5f",
             "gridcolor": "#C8D4E3",
             "linecolor": "#C8D4E3",
             "minorgridcolor": "#C8D4E3",
             "startlinecolor": "#2a3f5f"
            },
            "type": "carpet"
           }
          ],
          "choropleth": [
           {
            "colorbar": {
             "outlinewidth": 0,
             "ticks": ""
            },
            "type": "choropleth"
           }
          ],
          "contour": [
           {
            "colorbar": {
             "outlinewidth": 0,
             "ticks": ""
            },
            "colorscale": [
             [
              0,
              "#0d0887"
             ],
             [
              0.1111111111111111,
              "#46039f"
             ],
             [
              0.2222222222222222,
              "#7201a8"
             ],
             [
              0.3333333333333333,
              "#9c179e"
             ],
             [
              0.4444444444444444,
              "#bd3786"
             ],
             [
              0.5555555555555556,
              "#d8576b"
             ],
             [
              0.6666666666666666,
              "#ed7953"
             ],
             [
              0.7777777777777778,
              "#fb9f3a"
             ],
             [
              0.8888888888888888,
              "#fdca26"
             ],
             [
              1,
              "#f0f921"
             ]
            ],
            "type": "contour"
           }
          ],
          "contourcarpet": [
           {
            "colorbar": {
             "outlinewidth": 0,
             "ticks": ""
            },
            "type": "contourcarpet"
           }
          ],
          "heatmap": [
           {
            "colorbar": {
             "outlinewidth": 0,
             "ticks": ""
            },
            "colorscale": [
             [
              0,
              "#0d0887"
             ],
             [
              0.1111111111111111,
              "#46039f"
             ],
             [
              0.2222222222222222,
              "#7201a8"
             ],
             [
              0.3333333333333333,
              "#9c179e"
             ],
             [
              0.4444444444444444,
              "#bd3786"
             ],
             [
              0.5555555555555556,
              "#d8576b"
             ],
             [
              0.6666666666666666,
              "#ed7953"
             ],
             [
              0.7777777777777778,
              "#fb9f3a"
             ],
             [
              0.8888888888888888,
              "#fdca26"
             ],
             [
              1,
              "#f0f921"
             ]
            ],
            "type": "heatmap"
           }
          ],
          "heatmapgl": [
           {
            "colorbar": {
             "outlinewidth": 0,
             "ticks": ""
            },
            "colorscale": [
             [
              0,
              "#0d0887"
             ],
             [
              0.1111111111111111,
              "#46039f"
             ],
             [
              0.2222222222222222,
              "#7201a8"
             ],
             [
              0.3333333333333333,
              "#9c179e"
             ],
             [
              0.4444444444444444,
              "#bd3786"
             ],
             [
              0.5555555555555556,
              "#d8576b"
             ],
             [
              0.6666666666666666,
              "#ed7953"
             ],
             [
              0.7777777777777778,
              "#fb9f3a"
             ],
             [
              0.8888888888888888,
              "#fdca26"
             ],
             [
              1,
              "#f0f921"
             ]
            ],
            "type": "heatmapgl"
           }
          ],
          "histogram": [
           {
            "marker": {
             "pattern": {
              "fillmode": "overlay",
              "size": 10,
              "solidity": 0.2
             }
            },
            "type": "histogram"
           }
          ],
          "histogram2d": [
           {
            "colorbar": {
             "outlinewidth": 0,
             "ticks": ""
            },
            "colorscale": [
             [
              0,
              "#0d0887"
             ],
             [
              0.1111111111111111,
              "#46039f"
             ],
             [
              0.2222222222222222,
              "#7201a8"
             ],
             [
              0.3333333333333333,
              "#9c179e"
             ],
             [
              0.4444444444444444,
              "#bd3786"
             ],
             [
              0.5555555555555556,
              "#d8576b"
             ],
             [
              0.6666666666666666,
              "#ed7953"
             ],
             [
              0.7777777777777778,
              "#fb9f3a"
             ],
             [
              0.8888888888888888,
              "#fdca26"
             ],
             [
              1,
              "#f0f921"
             ]
            ],
            "type": "histogram2d"
           }
          ],
          "histogram2dcontour": [
           {
            "colorbar": {
             "outlinewidth": 0,
             "ticks": ""
            },
            "colorscale": [
             [
              0,
              "#0d0887"
             ],
             [
              0.1111111111111111,
              "#46039f"
             ],
             [
              0.2222222222222222,
              "#7201a8"
             ],
             [
              0.3333333333333333,
              "#9c179e"
             ],
             [
              0.4444444444444444,
              "#bd3786"
             ],
             [
              0.5555555555555556,
              "#d8576b"
             ],
             [
              0.6666666666666666,
              "#ed7953"
             ],
             [
              0.7777777777777778,
              "#fb9f3a"
             ],
             [
              0.8888888888888888,
              "#fdca26"
             ],
             [
              1,
              "#f0f921"
             ]
            ],
            "type": "histogram2dcontour"
           }
          ],
          "mesh3d": [
           {
            "colorbar": {
             "outlinewidth": 0,
             "ticks": ""
            },
            "type": "mesh3d"
           }
          ],
          "parcoords": [
           {
            "line": {
             "colorbar": {
              "outlinewidth": 0,
              "ticks": ""
             }
            },
            "type": "parcoords"
           }
          ],
          "pie": [
           {
            "automargin": true,
            "type": "pie"
           }
          ],
          "scatter": [
           {
            "fillpattern": {
             "fillmode": "overlay",
             "size": 10,
             "solidity": 0.2
            },
            "type": "scatter"
           }
          ],
          "scatter3d": [
           {
            "line": {
             "colorbar": {
              "outlinewidth": 0,
              "ticks": ""
             }
            },
            "marker": {
             "colorbar": {
              "outlinewidth": 0,
              "ticks": ""
             }
            },
            "type": "scatter3d"
           }
          ],
          "scattercarpet": [
           {
            "marker": {
             "colorbar": {
              "outlinewidth": 0,
              "ticks": ""
             }
            },
            "type": "scattercarpet"
           }
          ],
          "scattergeo": [
           {
            "marker": {
             "colorbar": {
              "outlinewidth": 0,
              "ticks": ""
             }
            },
            "type": "scattergeo"
           }
          ],
          "scattergl": [
           {
            "marker": {
             "colorbar": {
              "outlinewidth": 0,
              "ticks": ""
             }
            },
            "type": "scattergl"
           }
          ],
          "scattermapbox": [
           {
            "marker": {
             "colorbar": {
              "outlinewidth": 0,
              "ticks": ""
             }
            },
            "type": "scattermapbox"
           }
          ],
          "scatterpolar": [
           {
            "marker": {
             "colorbar": {
              "outlinewidth": 0,
              "ticks": ""
             }
            },
            "type": "scatterpolar"
           }
          ],
          "scatterpolargl": [
           {
            "marker": {
             "colorbar": {
              "outlinewidth": 0,
              "ticks": ""
             }
            },
            "type": "scatterpolargl"
           }
          ],
          "scatterternary": [
           {
            "marker": {
             "colorbar": {
              "outlinewidth": 0,
              "ticks": ""
             }
            },
            "type": "scatterternary"
           }
          ],
          "surface": [
           {
            "colorbar": {
             "outlinewidth": 0,
             "ticks": ""
            },
            "colorscale": [
             [
              0,
              "#0d0887"
             ],
             [
              0.1111111111111111,
              "#46039f"
             ],
             [
              0.2222222222222222,
              "#7201a8"
             ],
             [
              0.3333333333333333,
              "#9c179e"
             ],
             [
              0.4444444444444444,
              "#bd3786"
             ],
             [
              0.5555555555555556,
              "#d8576b"
             ],
             [
              0.6666666666666666,
              "#ed7953"
             ],
             [
              0.7777777777777778,
              "#fb9f3a"
             ],
             [
              0.8888888888888888,
              "#fdca26"
             ],
             [
              1,
              "#f0f921"
             ]
            ],
            "type": "surface"
           }
          ],
          "table": [
           {
            "cells": {
             "fill": {
              "color": "#EBF0F8"
             },
             "line": {
              "color": "white"
             }
            },
            "header": {
             "fill": {
              "color": "#C8D4E3"
             },
             "line": {
              "color": "white"
             }
            },
            "type": "table"
           }
          ]
         },
         "layout": {
          "annotationdefaults": {
           "arrowcolor": "#2a3f5f",
           "arrowhead": 0,
           "arrowwidth": 1
          },
          "autotypenumbers": "strict",
          "coloraxis": {
           "colorbar": {
            "outlinewidth": 0,
            "ticks": ""
           }
          },
          "colorscale": {
           "diverging": [
            [
             0,
             "#8e0152"
            ],
            [
             0.1,
             "#c51b7d"
            ],
            [
             0.2,
             "#de77ae"
            ],
            [
             0.3,
             "#f1b6da"
            ],
            [
             0.4,
             "#fde0ef"
            ],
            [
             0.5,
             "#f7f7f7"
            ],
            [
             0.6,
             "#e6f5d0"
            ],
            [
             0.7,
             "#b8e186"
            ],
            [
             0.8,
             "#7fbc41"
            ],
            [
             0.9,
             "#4d9221"
            ],
            [
             1,
             "#276419"
            ]
           ],
           "sequential": [
            [
             0,
             "#0d0887"
            ],
            [
             0.1111111111111111,
             "#46039f"
            ],
            [
             0.2222222222222222,
             "#7201a8"
            ],
            [
             0.3333333333333333,
             "#9c179e"
            ],
            [
             0.4444444444444444,
             "#bd3786"
            ],
            [
             0.5555555555555556,
             "#d8576b"
            ],
            [
             0.6666666666666666,
             "#ed7953"
            ],
            [
             0.7777777777777778,
             "#fb9f3a"
            ],
            [
             0.8888888888888888,
             "#fdca26"
            ],
            [
             1,
             "#f0f921"
            ]
           ],
           "sequentialminus": [
            [
             0,
             "#0d0887"
            ],
            [
             0.1111111111111111,
             "#46039f"
            ],
            [
             0.2222222222222222,
             "#7201a8"
            ],
            [
             0.3333333333333333,
             "#9c179e"
            ],
            [
             0.4444444444444444,
             "#bd3786"
            ],
            [
             0.5555555555555556,
             "#d8576b"
            ],
            [
             0.6666666666666666,
             "#ed7953"
            ],
            [
             0.7777777777777778,
             "#fb9f3a"
            ],
            [
             0.8888888888888888,
             "#fdca26"
            ],
            [
             1,
             "#f0f921"
            ]
           ]
          },
          "colorway": [
           "#636efa",
           "#EF553B",
           "#00cc96",
           "#ab63fa",
           "#FFA15A",
           "#19d3f3",
           "#FF6692",
           "#B6E880",
           "#FF97FF",
           "#FECB52"
          ],
          "font": {
           "color": "#2a3f5f"
          },
          "geo": {
           "bgcolor": "white",
           "lakecolor": "white",
           "landcolor": "white",
           "showlakes": true,
           "showland": true,
           "subunitcolor": "#C8D4E3"
          },
          "hoverlabel": {
           "align": "left"
          },
          "hovermode": "closest",
          "mapbox": {
           "style": "light"
          },
          "paper_bgcolor": "white",
          "plot_bgcolor": "white",
          "polar": {
           "angularaxis": {
            "gridcolor": "#EBF0F8",
            "linecolor": "#EBF0F8",
            "ticks": ""
           },
           "bgcolor": "white",
           "radialaxis": {
            "gridcolor": "#EBF0F8",
            "linecolor": "#EBF0F8",
            "ticks": ""
           }
          },
          "scene": {
           "xaxis": {
            "backgroundcolor": "white",
            "gridcolor": "#DFE8F3",
            "gridwidth": 2,
            "linecolor": "#EBF0F8",
            "showbackground": true,
            "ticks": "",
            "zerolinecolor": "#EBF0F8"
           },
           "yaxis": {
            "backgroundcolor": "white",
            "gridcolor": "#DFE8F3",
            "gridwidth": 2,
            "linecolor": "#EBF0F8",
            "showbackground": true,
            "ticks": "",
            "zerolinecolor": "#EBF0F8"
           },
           "zaxis": {
            "backgroundcolor": "white",
            "gridcolor": "#DFE8F3",
            "gridwidth": 2,
            "linecolor": "#EBF0F8",
            "showbackground": true,
            "ticks": "",
            "zerolinecolor": "#EBF0F8"
           }
          },
          "shapedefaults": {
           "line": {
            "color": "#2a3f5f"
           }
          },
          "ternary": {
           "aaxis": {
            "gridcolor": "#DFE8F3",
            "linecolor": "#A2B1C6",
            "ticks": ""
           },
           "baxis": {
            "gridcolor": "#DFE8F3",
            "linecolor": "#A2B1C6",
            "ticks": ""
           },
           "bgcolor": "white",
           "caxis": {
            "gridcolor": "#DFE8F3",
            "linecolor": "#A2B1C6",
            "ticks": ""
           }
          },
          "title": {
           "x": 0.05
          },
          "xaxis": {
           "automargin": true,
           "gridcolor": "#EBF0F8",
           "linecolor": "#EBF0F8",
           "ticks": "",
           "title": {
            "standoff": 15
           },
           "zerolinecolor": "#EBF0F8",
           "zerolinewidth": 2
          },
          "yaxis": {
           "automargin": true,
           "gridcolor": "#EBF0F8",
           "linecolor": "#EBF0F8",
           "ticks": "",
           "title": {
            "standoff": 15
           },
           "zerolinecolor": "#EBF0F8",
           "zerolinewidth": 2
          }
         }
        },
        "title": {
         "font": {
          "color": "#000000",
          "size": 22
         },
         "text": "Hierarchical structure of the topics",
         "x": 0.5,
         "xanchor": "center",
         "y": 0.975,
         "yanchor": "top"
        },
        "width": 1200,
        "xaxis": {
         "mirror": "allticks",
         "rangemode": "tozero",
         "showgrid": false,
         "showline": true,
         "showticklabels": true,
         "ticks": "outside",
         "type": "linear",
         "zeroline": false
        },
        "yaxis": {
         "mirror": "allticks",
         "range": [
          -290,
          0
         ],
         "rangemode": "tozero",
         "showgrid": false,
         "showline": true,
         "showticklabels": true,
         "tickmode": "array",
         "ticks": "outside",
         "ticktext": [
          "Macular Degeneration Genetics",
          "Macular Degeneration Grading",
          "Age Related Macular Degeneration",
          "Neurobiological Disorders Retinal Investigations",
          "Retinal Imaging for Alzheimer s Disease",
          "Glaucoma Probability Scores",
          "Retinal Image Analysis System",
          "Retinal Vessel Segmentation",
          "Vessel Segmentation Methods",
          "Generative Adversarial Networks",
          "Optical Coherence Tomography Images",
          "Choroidal Vessel Characteristics",
          "Diabetic Retinopathy Screening",
          "Retinopathy of Prematurity Screening",
          "Deep Learning Diagnostics",
          "Deep Learning Retinal Diabetic Retinopathy",
          "Performance Metrics for Models",
          "Proprietary Commercial Disclosure",
          "Neural networks and spikes",
          "Neuromorphic Visual Sensing",
          "Early Disease Screening and Treatment",
          "NLP in Ophthalmology",
          "Telemedicine in Ophthalmology",
          "Big data in Ophthalmology",
          "Systematic Review and Meta Analysis",
          "AI based Myopia Identification",
          "Artificial Intelligence in Medicine",
          "AI in Ophthalmology",
          "Artificial Intelligence Development"
         ],
         "tickvals": [
          -5,
          -15,
          -25,
          -35,
          -45,
          -55,
          -65,
          -75,
          -85,
          -95,
          -105,
          -115,
          -125,
          -135,
          -145,
          -155,
          -165,
          -175,
          -185,
          -195,
          -205,
          -215,
          -225,
          -235,
          -245,
          -255,
          -265,
          -275,
          -285
         ],
         "type": "linear",
         "zeroline": false
        }
       }
      }
     },
     "metadata": {},
     "output_type": "display_data"
    }
   ],
   "source": [
    "fig = topic_model.visualize_hierarchy(\n",
    "    # 'str' the orientation of the figure. Either 'left' or 'bottom'.\n",
    "    orientation='left',\n",
    "\n",
    "    # 'list[int]' a selection of topics to visualize.\n",
    "    topics=None,\n",
    "\n",
    "    # 'int' only select the top n most frequent topics to visualize.\n",
    "    top_n_topics=None,\n",
    "\n",
    "    # 'pd.DataFrame' a dataframe that contains a hierarchy of topics represented by their\n",
    "    # parents and their children.\n",
    "    # NOTE: The hierarchical topic names are only visualized if both 'topics' and 'top_n_topics' are not set.\n",
    "    hierarchical_topics=hierarchical_topics,\n",
    "\n",
    "    # Whether to use custom topic labels that were defined using 'topic_model.set_topic_labels'.\n",
    "    custom_labels=True,\n",
    "\n",
    "    width=1200,\n",
    "    height=1000,\n",
    ")\n",
    "\n",
    "fig.update_layout(\n",
    "    # Adjust left, right, top, bottom margin of the overall figure.\n",
    "    margin=dict(l=20, r=20, t=60, b=20),\n",
    "\n",
    "    title={\n",
    "        'text': \"Hierarchical structure of the topics\",\n",
    "        'y':0.975,\n",
    "        'x':0.5,\n",
    "        'xanchor': 'center',\n",
    "        'yanchor': 'top',\n",
    "        'font': dict(\n",
    "            size=22,\n",
    "            color=\"#000000\"\n",
    "        )\n",
    "    },\n",
    ")\n",
    "\n",
    "fig.show()"
   ]
  },
  {
   "cell_type": "markdown",
   "metadata": {},
   "source": [
    "### DataMapPlot"
   ]
  },
  {
   "cell_type": "code",
   "execution_count": 53,
   "metadata": {},
   "outputs": [
    {
     "data": {
      "image/png": "[encoded data removed]",
      "text/plain": [
       "<Figure size 1200x1200 with 1 Axes>"
      ]
     },
     "metadata": {},
     "output_type": "display_data"
    }
   ],
   "source": [
    "import datamapplot\n",
    "import matplotlib.pyplot as plt\n",
    "\n",
    "# Run the visualization\n",
    "datamapplot.create_plot(\n",
    "    reduced_embeddings,\n",
    "    all_labels,\n",
    "\n",
    "    use_medoids=True,\n",
    "\n",
    "    # Follows matplotlib’s 'figsize' convention.\n",
    "    # The actual size of the resulting plot (in pixels) will depend on the dots per inch (DPI)\n",
    "    # setting in matplotlib.\n",
    "    # By default that is set to 100 dots per inch for the standard backend, but it can vary.\n",
    "    figsize=(12, 12),\n",
    "    # If you really wish to have explicit control of the size of the resulting plot in pixels.\n",
    "    dpi=100,\n",
    "\n",
    "    title=\"PubMed - Literature review\",\n",
    "    sub_title=\"A data map of papers representing artificial intelligence and machine learning in ophthalmology\",\n",
    "    # Universally set a font family for the plot.\n",
    "    fontfamily=\"Roboto\",\n",
    "\n",
    "    # Takes a dictionary of keyword arguments that is passed through to\n",
    "    # matplotlib’s 'title' 'fontdict' arguments.\n",
    "    title_keywords={\n",
    "        \"fontsize\":36,\n",
    "        \"fontfamily\":\"Roboto Black\"\n",
    "    },\n",
    "    # Takes a dictionary of keyword arguments that is passed through to\n",
    "    # matplotlib’s 'suptitle' 'fontdict' arguments.\n",
    "    sub_title_keywords={\n",
    "        \"fontsize\":18,\n",
    "    },\n",
    "\n",
    "    # Takes a list of text labels to be highlighted.\n",
    "    # Note: these labels need to match the exact text from your labels array that you are passing in.\n",
    "    highlight_labels=[\n",
    "        \"Retinopathy Prematurity Screening\",\n",
    "    ],\n",
    "    # Takes a dictionary of keyword arguments to be applied when styling the labels.\n",
    "    highlight_label_keywords={\n",
    "        \"fontsize\": 12,\n",
    "        \"fontweight\": \"bold\",\n",
    "        \"bbox\": {\"boxstyle\":\"round\"}\n",
    "    },\n",
    "\n",
    "    # By default DataMapPlot tries to automatically choose a size for the text that will allow\n",
    "    # all the labels to be laid out well with no overlapping text. The layout algorithm will try\n",
    "    # to accommodate the size of the text you specify here.\n",
    "    label_font_size=8,\n",
    "    label_wrap_width=16,\n",
    "    label_linespacing=1.25,\n",
    "    # Default is 1.5. Generally, the values of 1.0 and 2.0 are the extremes.\n",
    "    # With 1.0 you will have more labels at the top and bottom.\n",
    "    # With 2.0 you will have more labels on the left and right.\n",
    "    label_direction_bias=1.3,\n",
    "    # Controls how large the margin is around the exact bounding box of a label, which is the\n",
    "    # bounding box used by the algorithm for collision/overlap detection.\n",
    "    # The default is 1.0, which means the margin is the same size as the label itself.\n",
    "    # Generally, the fewer labels you have the larger you can make the margin.\n",
    "    label_margin_factor=2.0,\n",
    "    # Labels are placed in rings around the core data map. This controls the starting radius for\n",
    "    # the first ring. Note: you need to provide a radius in data coordinates from the center of the\n",
    "    # data map.\n",
    "    # The defaul is selected from the data itself, based on the distance from the center of the\n",
    "    # most outlying points. Experiment and let the DataMapPlot algoritm try to clean it up.\n",
    "    label_base_radius=15.0,\n",
    "\n",
    "    # By default anything over 100,000 points uses datashader to create the scatterplot, while\n",
    "    # plots with fewer points use matplotlib’s scatterplot.\n",
    "    # If DataMapPlot is using datashader then the point-size should be an integer,\n",
    "    # say 0, 1, 2, and possibly 3 at most. If however you are matplotlib scatterplot mode then you\n",
    "    # have a lot more flexibility in the point-size you can use - and in general larger values will\n",
    "    # be required. Experiment and see what works best.\n",
    "    point_size=4,\n",
    "\n",
    "    # Market type. There is only support if you are in matplotlib's scatterplot mode.\n",
    "    # https://matplotlib.org/stable/api/markers_api.html\n",
    "    marker_type=\"o\",\n",
    "\n",
    "    arrowprops={\n",
    "        \"arrowstyle\":\"wedge,tail_width=0.5\",\n",
    "        \"connectionstyle\":\"arc3,rad=0.05\",\n",
    "        \"linewidth\":0,\n",
    "        \"fc\":\"#33333377\"\n",
    "    },\n",
    "\n",
    "    add_glow=True,\n",
    "    # Takes a dictionary of keywords that are passed to the 'add_glow_to_scatterplot' function.\n",
    "    glow_keywords={\n",
    "        \"kernel_bandwidth\": 0.75,  # controls how wide the glow spreads.\n",
    "        \"kernel\": \"cosine\",        # controls the kernel type. Default is \"gaussian\". See https://scikit-learn.org/stable/modules/density.html#kernel-density.\n",
    "        \"n_levels\": 32,            # controls how many \"levels\" there are in the contour plot.\n",
    "        \"max_alpha\": 0.9,          # controls the translucency of the glow.\n",
    "    },\n",
    "\n",
    "    darkmode=False,\n",
    ")\n",
    "\n",
    "plt.tight_layout()\n",
    "\n",
    "# Save the plot as a PDF, png, and svg file.\n",
    "plt.savefig('plot_datamapplot.pdf')\n",
    "plt.savefig('plot_datamapplot.png')\n",
    "plt.savefig('plot_datamapplot.svg')"
   ]
  }
 ],
 "metadata": {
  "kernelspec": {
   "display_name": "myvenv",
   "language": "python",
   "name": "python3"
  },
  "language_info": {
   "codemirror_mode": {
    "name": "ipython",
    "version": 3
   },
   "file_extension": ".py",
   "mimetype": "text/x-python",
   "name": "python",
   "nbconvert_exporter": "python",
   "pygments_lexer": "ipython3",
   "version": "3.11.6"
  }
 },
 "nbformat": 4,
 "nbformat_minor": 2
}
